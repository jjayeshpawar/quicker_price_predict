{
  "nbformat": 4,
  "nbformat_minor": 0,
  "metadata": {
    "colab": {
      "name": "Quickr_predict.ipynb",
      "provenance": [],
      "collapsed_sections": []
    },
    "kernelspec": {
      "name": "python3",
      "display_name": "Python 3"
    },
    "language_info": {
      "name": "python"
    }
  },
  "cells": [
    {
      "cell_type": "code",
      "metadata": {
        "id": "x3v3-0J2ZJym"
      },
      "source": [
        "import pandas as pd"
      ],
      "execution_count": null,
      "outputs": []
    },
    {
      "cell_type": "code",
      "metadata": {
        "colab": {
          "resources": {
            "http://localhost:8080/nbextensions/google.colab/files.js": {
              "data": "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",
              "ok": true,
              "headers": [
                [
                  "content-type",
                  "application/javascript"
                ]
              ],
              "status": 200,
              "status_text": ""
            }
          },
          "base_uri": "https://localhost:8080/",
          "height": 109
        },
        "id": "U2LTygpWZMXx",
        "outputId": "63b7205c-035c-44e4-f463-b34634ce3887"
      },
      "source": [
        "from google.colab import files\n",
        "files.upload()"
      ],
      "execution_count": null,
      "outputs": [
        {
          "output_type": "display_data",
          "data": {
            "text/html": [
              "\n",
              "     <input type=\"file\" id=\"files-fcc326e0-b1c3-42c8-bd79-ce74bac32436\" name=\"files[]\" multiple disabled\n",
              "        style=\"border:none\" />\n",
              "     <output id=\"result-fcc326e0-b1c3-42c8-bd79-ce74bac32436\">\n",
              "      Upload widget is only available when the cell has been executed in the\n",
              "      current browser session. Please rerun this cell to enable.\n",
              "      </output>\n",
              "      <script src=\"/nbextensions/google.colab/files.js\"></script> "
            ],
            "text/plain": [
              "<IPython.core.display.HTML object>"
            ]
          },
          "metadata": {
            "tags": []
          }
        },
        {
          "output_type": "stream",
          "text": [
            "Saving quikr_car.csv to quikr_car.csv\n"
          ],
          "name": "stdout"
        },
        {
          "output_type": "execute_result",
          "data": {
            "text/plain": [
              "{'quikr_car.csv': b'name,company,year,Price,kms_driven,fuel_type\\nHyundai Santro Xing XO eRLX Euro III,Hyundai,2007,\"80,000\",\"45,000 kms\",Petrol\\nMahindra Jeep CL550 MDI,Mahindra,2006,\"4,25,000\",40 kms,Diesel\\nMaruti Suzuki Alto 800 Vxi,Maruti,2018,Ask For Price,\"22,000 kms\",Petrol\\nHyundai Grand i10 Magna 1.2 Kappa VTVT,Hyundai,2014,\"3,25,000\",\"28,000 kms\",Petrol\\nFord EcoSport Titanium 1.5L TDCi,Ford,2014,\"5,75,000\",\"36,000 kms\",Diesel\\nFord EcoSport Titanium 1.5L TDCi,Ford,2015,Ask For Price,\"59,000 kms\",Diesel\\nFord Figo,Ford,2012,\"1,75,000\",\"41,000 kms\",Diesel\\nHyundai Eon,Hyundai,2013,\"1,90,000\",\"25,000 kms\",Petrol\\nFord EcoSport Ambiente 1.5L TDCi,Ford,2016,\"8,30,000\",\"24,530 kms\",Diesel\\nMaruti Suzuki Alto K10 VXi AMT,Maruti,2015,\"2,50,000\",\"60,000 kms\",Petrol\\nSkoda Fabia Classic 1.2 MPI,Skoda,2010,\"1,82,000\",\"60,000 kms\",Petrol\\nMaruti Suzuki Stingray VXi,Maruti,2015,\"3,15,000\",\"30,000 kms\",Petrol\\nHyundai Elite i20 Magna 1.2,Hyundai,2014,\"4,15,000\",\"32,000 kms\",Petrol\\nMahindra Scorpio SLE BS IV,Mahindra,2015,\"3,20,000\",\"48,660 kms\",Diesel\\nHyundai Santro Xing XO eRLX Euro III,Hyundai,2007,\"80,000\",\"45,000 kms\",Petrol\\nMahindra Jeep CL550 MDI,Mahindra,2006,\"4,25,000\",40 kms,Diesel\\nAudi A8,Audi,2017,\"10,00,000\",\"4,000 kms\",Petrol\\nAudi Q7,Audi,2014,\"5,00,000\",\"16,934 kms\",Diesel\\nMahindra Scorpio S10,Mahindra,2016,\"3,50,000\",\"43,000 kms\",Diesel\\nMaruti Suzuki Alto 800,Maruti,2014,\"1,60,000\",\"35,550 kms\",Petrol\\nMahindra Scorpio S10,Mahindra,2016,\"3,50,000\",\"43,000 kms\",Diesel\\nMahindra Scorpio S10,Mahindra,2016,\"3,10,000\",\"39,522 kms\",Diesel\\nMaruti Suzuki Alto 800 Vxi,Maruti,2015,\"75,000\",\"39,000 kms\",Petrol\\nHyundai i20 Sportz 1.2,Hyundai,2012,\"1,00,000\",\"55,000 kms\",Petrol\\nHyundai i20 Sportz 1.2,Hyundai,2012,\"1,00,000\",\"55,000 kms\",Petrol\\nHyundai i20 Sportz 1.2,Hyundai,2012,\"1,00,000\",\"55,000 kms\",Petrol\\nMaruti Suzuki Alto 800 Lx,Maruti,2017,\"1,90,000\",\"72,000 kms\",Petrol\\nMaruti Suzuki Vitara Brezza ZDi,Maruti,2016,\"2,90,000\",\"15,975 kms\",Diesel\\nMaruti Suzuki Alto LX,Maruti,2008,\"95,000\",\"70,000 kms\",Petrol\\nMahindra Bolero DI,Mahindra,2017,\"1,80,000\",\"23,452 kms\",Diesel\\nMaruti Suzuki Swift Dzire ZDi,Maruti,2014,\"3,85,000\",\"35,522 kms\",Diesel\\nMahindra Scorpio S10 4WD,Mahindra,2015,\"2,50,000\",\"48,508 kms\",Diesel\\nMaruti Suzuki Swift Vdi BSIII,Maruti,2017,\"1,80,000\",\"15,487 kms\",Petrol\\nMaruti Suzuki Wagon R VXi BS III,Maruti,2013,\"1,05,000\",\"39,000 kms\",Petrol\\nMaruti Suzuki Wagon R VXi Minor,Maruti,2013,\"1,05,000\",\"39,000 kms\",Petrol\\nToyota Innova 2.0 G 8 STR BS IV,Toyota,2012,\"6,50,000\",\"82,000 kms\",Diesel\\nRenault Lodgy 85 PS RXL,Renault,2018,\"6,89,999\",\"20,000 kms\",Diesel\\nSkoda Yeti Ambition 2.0 TDI CR 4x2,Skoda,2012,\"4,48,000\",\"68,000 kms\",Diesel\\nMaruti Suzuki Baleno Delta 1.2,Maruti,2017,\"5,49,000\",\"32,000 kms\",Diesel\\nRenault Duster 110 PS RxZ Diesel Plus,Renault,2012,\"5,01,000\",\"38,000 kms\",Diesel\\nRenault Duster 85 PS RxE Diesel,Renault,2013,\"4,89,999\",\"27,000 kms\",Diesel\\nHonda City 1.5 S MT,Honda,2011,\"2,80,000\",\"33,000 kms\",Petrol\\nMaruti Suzuki Alto K10 VXi AMT,Maruti,2015,\"2,50,000\",\"60,000 kms\",Petrol\\nMaruti Suzuki Dzire,Maruti,2013,\"3,49,999\",\"46,000 kms\",Diesel\\nHonda Amaze,Honda,2013,\"2,84,999\",\"46,000 kms\",Diesel\\nHonda Amaze 1.5 SX i DTEC,Honda,2015,\"3,45,000\",\"36,000 kms\",Diesel\\nHonda City,Honda,2015,\"4,99,999\",\"55,000 kms\",Petrol\\nDatsun Redi GO S,Datsun,2017,\"2,35,000\",\"16,000 kms\",Petrol\\nMaruti Suzuki SX4 ZXI MT,Maruti,2010,\"2,49,999\",\"36,000 kms\",Petrol\\nMitsubishi Pajero Sport Limited Edition,Mitsubishi,2015,\"14,75,000\",\"47,000 kms\",Diesel\\nMahindra Bolero DI,Mahindra,2017,\"1,80,000\",\"23,452 kms\",Diesel\\nMaruti Suzuki Swift Dzire ZDi,Maruti,2014,\"3,85,000\",\"35,522 kms\",Diesel\\nMahindra Scorpio S10 4WD,Mahindra,2015,\"2,50,000\",\"48,508 kms\",Diesel\\nMaruti Suzuki Swift Vdi BSIII,Maruti,2017,\"1,80,000\",\"15,487 kms\",Petrol\\nMaruti Suzuki Wagon R VXi BS III,Maruti,2013,\"1,05,000\",\"39,000 kms\",Petrol\\nMaruti Suzuki Wagon R VXi Minor,Maruti,2013,\"1,05,000\",\"39,000 kms\",Petrol\\nMahindra Scorpio S10,Mahindra,2015,\"3,95,000\",\"35,000 kms\",Diesel\\nMaruti Suzuki Swift VXi 1.2 ABS BS IV,Maruti,2017,\"2,20,000\",\"30,874 kms\",Petrol\\nHonda City ZX CVT,Honda,2017,\"1,70,000\",\"15,000 kms\",Diesel\\nMaruti Suzuki Wagon R LX BS IV,Maruti,2013,\"85,000\",\"29,685 kms\",Petrol\\nFord Figo,Ford,2012,\"1,75,000\",\"41,000 kms\",Diesel\\nHyundai Eon,Hyundai,2013,\"1,90,000\",\"25,000 kms\",Petrol\\nTata Indigo eCS LS CR4 BS IV,Tata,2017,\"2,00,000\",\"1,30,000 kms\",Diesel\\nFord EcoSport Ambiente 1.5L TDCi,Ford,2016,\"8,30,000\",\"24,530 kms\",Diesel\\nTata Indigo eCS LS CR4 BS IV,Tata,2017,\"2,00,000\",\"1,30,000 kms\",Diesel\\nMahindra Scorpio SLE BS IV,Mahindra,2012,\"5,70,000\",\"19,000 kms\",Diesel\\nVolkswagen Polo Highline Exquisite P,Volkswagen,2014,\"3,15,000\",\"60,000 kms\",Petrol\\nSkoda Fabia Classic 1.2 MPI,Skoda,2010,\"1,82,000\",\"60,000 kms\",Petrol\\nMaruti Suzuki Stingray VXi,Maruti,2015,\"3,15,000\",\"30,000 kms\",Petrol\\nI want to sell my car Tata Zest,I,2017,Ask For Price,,\\nChevrolet Spark LS 1.0,Chevrolet,2010,\"1,10,000\",\"41,000 kms\",Petrol\\nRenault Duster 110PS Diesel RxZ,Renault,2012,\"5,01,000\",\"35,000 kms\",Diesel\\nHonda City,Honda,2015,\"4,48,999\",\"54,000 kms\",Petrol\\nMini Cooper S 1.6,Mini,2013,\"18,91,111\",\"13,000 kms\",Petrol\\nDatsun Redi GO S,Datsun,2017,\"2,35,000\",\"16,000 kms\",Petrol\\nSkoda Fabia 1.2L Diesel Ambiente,Skoda,2011,\"1,59,500\",\"38,200 kms\",Diesel\\nHonda Amaze,Honda,2015,\"3,44,999\",\"22,000 kms\",Petrol\\nHonda Amaze,Honda,2015,\"3,44,999\",\"22,000 kms\",Petrol\\nRenault Duster,Renault,2014,\"4,49,999\",\"50,000 kms\",Diesel\\nMini Cooper S 1.6,Mini,2013,\"18,91,111\",\"13,500 kms\",Petrol\\nMahindra Scorpio S4,Mahindra,2015,\"8,65,000\",\"30,000 kms\",Diesel\\nMahindra Scorpio VLX 2WD BS IV,Mahindra,2014,\"6,99,000\",\"50,000 kms\",Diesel\\nMahindra Quanto C8,Mahindra,2013,\"3,75,000\",\"20,000 kms\",Diesel\\nFord EcoSport,Ford,2017,\"4,89,999\",\"39,000 kms\",Petrol\\nHonda Brio,Honda,2012,\"2,24,999\",\"30,000 kms\",Petrol\\nI want to sell my car Tata Zest,I,2017,Ask For Price,,\\nVolkswagen Vento Highline Plus 1.5 Diesel AT,Volkswagen,2019,\"12,00,000\",\"3,600 kms\",Diesel\\nHyundai i20 Magna,Hyundai,2009,\"1,95,000\",\"32,000 kms\",Petrol\\nToyota Corolla Altis Diesel D4DG,Toyota,2010,\"3,51,000\",\"38,000 kms\",Diesel\\nHyundai Verna Transform SX VTVT,Hyundai,2008,\"1,60,000\",\"45,000 kms\",Petrol\\nToyota Corolla Altis Petrol Ltd,Toyota,2009,\"2,40,000\",\"35,000 kms\",Petrol\\nHonda City 1.5 EXi New,Honda,2005,\"90,000\",\"50,000 kms\",Petrol\\nHyundai Elite i20 Magna 1.2,Hyundai,2014,\"4,15,000\",\"32,000 kms\",Petrol\\nSkoda Fabia 1.2L Diesel Elegance,Skoda,2011,\"1,55,000\",\"45,863 kms\",Diesel\\nBMW 3 Series 320i,BMW,2011,\"6,00,000\",\"60,500 kms\",Petrol\\nMaruti Suzuki A Star Lxi,Maruti,2011,\"1,89,500\",\"12,500 kms\",Petrol\\nToyota Etios GD,Toyota,2013,\"3,50,000\",\"60,000 kms\",Diesel\\nFord Figo Diesel EXI Option,Ford,2012,\"2,10,000\",\"35,000 kms\",Diesel\\nMaruti Suzuki Swift Dzire VXi 1.2 BS IV,Maruti,2014,\"3,90,000\",\"35,000 kms\",Petrol\\nChevrolet Beat LT Diesel,Chevrolet,2012,\"1,35,000\",\"45,000 kms\",Diesel\\nBMW 7 Series 740Li Sedan,BMW,2009,\"16,00,000\",\"35,000 kms\",Petrol\\nMahindra XUV500 W8 AWD 2013,Mahindra,2013,\"7,01,000\",\"38,000 kms\",Diesel\\nHyundai i10 Magna 1.2,Hyundai,2014,\"2,65,000\",\"18,000 kms\",Petrol\\nHyundai Verna Fluidic New,Hyundai,2015,\"5,25,000\",\"35,000 kms\",Diesel\\nMaruti Suzuki Swift VXi 1.2 BS IV,Maruti,2013,\"3,72,000\",\"13,349 kms\",Petrol\\nMaruti Suzuki Ertiga ZXI Plus,Maruti,2016,\"6,35,000\",\"29,000 kms\",Petrol\\nFord EcoSport Titanium 1.5L TDCi,Ford,2014,\"5,50,000\",\"44,000 kms\",Diesel\\nMaruti Suzuki Ertiga Vxi,Maruti,2016,\"5,75,000\",\"29,000 kms\",Petrol\\nMaruti Suzuki Ertiga VDi,Maruti,2013,\"4,85,000\",\"42,000 kms\",Diesel\\nMaruti Suzuki Alto LXi BS III,Maruti,2012,\"1,55,000\",\"14,000 kms\",Petrol\\nHyundai Grand i10 Asta 1.1 CRDi,Hyundai,2014,\"3,45,000\",\"49,000 kms\",Diesel\\nHonda Amaze 1.2 S i VTEC,Honda,2014,\"3,25,000\",\"42,000 kms\",Petrol\\nHyundai i20 Asta 1.4 CRDI 6 Speed,Hyundai,2012,\"3,29,500\",\"36,200 kms\",Diesel\\nFord Figo Diesel EXI,Ford,2014,\"1,95,000\",\"50,000 kms\",Diesel\\nMaruti Suzuki Eeco 5 STR WITH AC HTR,Maruti,2015,\"2,51,111\",\"55,000 kms\",Petrol\\nMaruti Suzuki Ertiga ZXi,Maruti,2014,\"5,69,999\",\"45,000 kms\",Petrol\\nMaruti Suzuki Esteem LXi BS III,Maruti,2007,\"69,999\",\"51,000 kms\",Petrol\\nMaruti Suzuki Ritz VXI,Maruti,2014,\"2,99,999\",\"19,000 kms\",Petrol\\nMaruti Suzuki Dzire,Maruti,2009,\"2,20,000\",\"46,000 kms\",Petrol\\nMaruti Suzuki Ritz LDi,Maruti,2013,\"3,99,999\",\"33,000 kms\",Diesel\\nMaruti Suzuki Swift VXi 1.2 BS IV,Maruti,2013,\"3,72,000\",\"13,349 kms\",Petrol\\nMaruti Suzuki Dzire VDI,Maruti,2015,\"4,50,000\",\"1,04,000 kms\",Diesel\\nToyota Etios Liva G,Toyota,2014,\"2,70,000\",\"55,000 kms\",Petrol\\nHyundai i20 Sportz 1.4 CRDI,Hyundai,2011,\"3,50,000\",\"33,333 kms\",Diesel\\nChevrolet Spark,Chevrolet,2012,\"1,58,400\",\"33,600 kms\",Petrol\\nMaruti Suzuki Alto K10 VXi AMT,Maruti,2017,\"3,50,000\",\"5,600 kms\",Petrol\\nNissan Micra XV,Nissan,2011,\"1,79,000\",\"41,000 kms\",Petrol\\nMaruti Suzuki Swift,Maruti,2007,\"1,25,000\",\"70,000 kms\",Petrol\\nMaruti Suzuki Alto 800,Maruti,2018,\"2,00,000\",\"7,500 kms\",Petrol\\nHonda Amaze 1.5 S i DTEC,Honda,2013,\"2,99,000\",\"45,000 kms\",Diesel\\nMaruti Suzuki Alto 800 Vxi,Maruti,2015,\"2,20,000\",\"38,000 kms\",Petrol\\nChevrolet Beat,Chevrolet,2015,\"1,50,000\",\"30,000 kms\",Petrol\\nToyota Corolla,Toyota,2009,\"2,75,000\",\"26,000 kms\",\\nHonda City 1.5 V MT,Honda,2010,\"2,85,000\",\"35,000 kms\",Petrol\\nFord EcoSport Trend 1.5L TDCi,Ford,2016,\"8,30,000\",\"24,330 kms\",Diesel\\nHyundai i20 Asta 1.2,Hyundai,2009,\"2,10,000\",\"65,480 kms\",Petrol\\nMaruti Suzuki Swift Dzire VXi 1.2 BS IV,Maruti,2013,\"3,40,000\",\"41,000 kms\",Petrol\\nTata Indica V2 eLS,Tata,2006,\"90,000\",\"20,000 kms\",Petrol\\nMaruti Suzuki Alto 800 Lxi,Maruti,2018,Ask For Price,\"28,028 kms\",Petrol\\nHindustan Motors Ambassador,Hindustan,2000,\"70,000\",\"2,00,000 kms\",Diesel\\nToyota Corolla Altis 1.8 GL,Toyota,2010,\"2,89,999\",\"70,000 kms\",Petrol\\nToyota Corolla Altis 1.8 J,Toyota,2012,\"3,49,999\",\"59,000 kms\",Petrol\\nToyota Innova 2.5 GX BS IV 7 STR,Toyota,2012,\"8,49,999\",\"99,000 kms\",Diesel\\nVolkswagen Jetta Highline TDI AT,Volkswagen,2014,\"7,49,999\",\"46,000 kms\",Diesel\\nVolkswagen Polo Comfortline 1.2L P,Volkswagen,2015,\"3,99,999\",\"2,800 kms\",Petrol\\nVolkswagen Polo,Volkswagen,2014,\"2,74,999\",\"32,000 kms\",Petrol\\nMahindra Scorpio,Mahindra,2015,\"9,84,999\",\"22,000 kms\",Diesel\\nRenault Duster,Renault,2014,\"4,49,999\",\"50,000 kms\",Diesel\\nHonda Amaze,Honda,2015,\"3,44,999\",\"22,000 kms\",Petrol\\nNissan Sunny,Nissan,2012,\"2,24,999\",\"45,000 kms\",Petrol\\nHyundai Elite i20,Hyundai,2018,\"5,99,999\",\"21,000 kms\",Petrol\\nRenault Kwid,Renault,2016,\"2,44,999\",\"11,000 kms\",Petrol\\nRenault Duster,Renault,2013,\"3,99,999\",\"41,000 kms\",Diesel\\nFord EcoSport,Ford,2017,\"4,89,999\",\"39,000 kms\",Petrol\\nRenault Duster,Renault,2014,\"4,74,999\",\"50,000 kms\",Diesel\\nMahindra Scorpio VLX Airbag,Mahindra,2011,\"4,99,999\",\"66,000 kms\",Diesel\\nMaruti Suzuki Alto 800 Lxi,Maruti,2018,\"3,10,000\",\"3,000 kms\",Petrol\\nChevrolet Spark LT 1.0,Chevrolet,2010,\"85,000\",\"45,000 kms\",Petrol\\nDatsun Redi GO T O,Datsun,2016,\"2,45,000\",\"7,000 kms\",Petrol\\nMaruti Suzuki Swift RS VDI,Maruti,2010,\"1,89,500\",\"38,500 kms\",Diesel\\nFiat Punto Emotion 1.2,Fiat,2012,\"1,69,500\",\"37,200 kms\",Diesel\\nMaruti Suzuki Swift RS VDI,Maruti,2010,\"1,59,500\",\"43,200 kms\",Diesel\\nToyota Etios GD,Toyota,2013,\"2,75,000\",\"24,800 kms\",Petrol\\nHyundai i20 Sportz 1.4 CRDI,Hyundai,2014,\"3,70,000\",\"60,000 kms\",Diesel\\nHyundai i10 Sportz 1.2,Hyundai,2010,\"1,68,000\",\"45,872 kms\",Petrol\\nChevrolet Beat LT Opt Diesel,Chevrolet,2011,\"1,50,000\",\"40,000 kms\",Diesel\\nChevrolet Beat LS Diesel,Chevrolet,2011,\"1,45,000\",\"45,000 kms\",Diesel\\nChevrolet Beat LT Diesel,Chevrolet,2012,\"98,500\",\"38,000 kms\",Diesel\\nMahindra Scorpio VLX 2WD BS IV,Mahindra,2014,\"6,99,000\",\"50,000 kms\",Diesel\\nTata Indigo CS,Tata,2011,\"85,000\",\"11,400 kms\",Diesel\\nToyota Corolla Altis 1.8 J,Toyota,2015,\"5,75,000\",\"42,000 kms\",Petrol\\nHonda City 1.5 V MT,Honda,2014,\"5,49,000\",\"39,000 kms\",Petrol\\nMaruti Suzuki Swift VDi,Maruti,2011,\"2,09,000\",\"47,000 kms\",Diesel\\nHyundai Eon Era Plus,Hyundai,2013,\"1,85,000\",\"27,000 kms\",Petrol\\nMahindra Scorpio S10,Mahindra,2015,\"9,00,000\",\"97,200 kms\",Diesel\\nMahindra XUV500,Mahindra,2014,\"6,99,999\",\"52,000 kms\",Diesel\\nHonda Brio,Honda,2012,\"2,24,999\",\"30,000 kms\",Petrol\\nFord Fiesta,Ford,2011,\"2,74,999\",\"55,000 kms\",Diesel\\nHonda Amaze,Honda,2013,\"2,84,999\",\"46,000 kms\",Diesel\\nHonda City,Honda,2015,\"5,99,999\",\"30,000 kms\",Diesel\\nMaruti Suzuki Wagon R,Maruti,2012,\"1,99,999\",\"44,000 kms\",Petrol\\nHonda City,Honda,2014,\"5,44,999\",\"45,000 kms\",Diesel\\nHyundai i20,Hyundai,2009,\"1,99,000\",\"31,000 kms\",Petrol\\nTata Indigo eCS LX TDI BS III,Tata,2016,\"3,20,000\",\"1,75,430 kms\",Diesel\\nHyundai Fluidic Verna 1.6 CRDi SX,Hyundai,2015,\"5,40,000\",\"38,000 kms\",Diesel\\n\"Commercial , DZire LDI, 2016, for sale\",Commercial,...,Ask For Price,,\\nMahindra Quanto C8,Mahindra,2013,\"3,40,000\",\"37,000 kms\",Diesel\\nFiat Petra ELX 1.2 PS,Fiat,2008,\"75,000\",\"65,000 kms\",Petrol\\nSkoda Fabia 1.2L Diesel Ambiente,Skoda,2011,\"1,59,500\",\"38,200 kms\",Diesel\\nMini Cooper S 1.6,Mini,2013,\"18,91,111\",\"13,000 kms\",Petrol\\nHyundai Santro Xing XS,Hyundai,2005,\"49,000\",\"7,500 kms\",Petrol\\nMaruti Suzuki Ciaz VXi Plus,Maruti,2016,\"7,00,000\",\"3,350 kms\",Petrol\\nMaruti Suzuki Zen VX,Maruti,2000,\"55,000\",\"60,000 kms\",Petrol\\nHonda City,Honda,2015,\"4,48,999\",\"54,000 kms\",Petrol\\nHyundai Creta 1.6 SX Plus Petrol,Hyundai,2017,\"8,95,000\",\"32,000 kms\",Petrol\\n\"Tata indigo ecs LX, 201\",Tata,150k,\"1,50,000\",,\\nMahindra Scorpio SLX,Mahindra,2007,\"3,55,000\",\"75,000 kms\",Diesel\\nMahindra Scorpio SLE BS IV,Mahindra,2012,\"5,65,000\",\"62,000 kms\",Diesel\\nToyota Innova 2.5 G BS III 8 STR,Toyota,2006,\"3,65,000\",\"73,000 kms\",Diesel\\nMaruti Suzuki Alto K10 VXi AMT,Maruti,2011,\"1,45,000\",\"41,000 kms\",Petrol\\nMaruti Suzuki Wagon R LXI BS IV,Maruti,2011,\"2,10,000\",\"35,000 kms\",Petrol\\nTata Nano Cx BSIV,Tata,2013,\"40,000\",\"2,200 kms\",Petrol\\nMaruti Suzuki Alto Std BS IV,Maruti,2013,\"1,25,000\",\"39,000 kms\",Petrol\\nMaruti Suzuki Wagon R LXi BS III,Maruti,2009,\"1,35,000\",\"45,000 kms\",Petrol\\nMaruti Suzuki Swift VXI BSIII,Maruti,2006,\"1,35,000\",\"45,000 kms\",Petrol\\nTata Sumo Victa EX 10 by 7 Str BSIII,Tata,2012,\"2,85,000\",\"65,000 kms\",Diesel\\nMARUTI SUZUKI DESI,MARUTI,TOUR,\"4,00,000\",,\\nMaruti Suzuki Wagon R LXi BS III,Maruti,2010,\"1,45,000\",\"54,870 kms\",Petrol\\nMaruti Suzuki Alto LXi BS III,Maruti,2010,\"1,35,000\",\"34,580 kms\",Petrol\\nVolkswagen Passat Diesel Comfortline AT,Volkswagen,2009,\"4,50,000\",\"97,000 kms\",Diesel\\nRenault Scala RxL Diesel Travelogue,Renault,2015,\"3,75,000\",\"25,000 kms\",Diesel\\nMahindra Quanto C8,Mahindra,2013,\"3,75,000\",\"20,000 kms\",Diesel\\nHyundai Grand i10 Sportz O 1.2 Kappa VTVT,Hyundai,2014,\"3,65,000\",\"20,000 kms\",Petrol\\nHyundai i20 Active 1.2 SX,Hyundai,2015,\"5,00,000\",\"18,000 kms\",Petrol\\nMahindra Xylo E4,Mahindra,2012,\"4,00,000\",\"35,000 kms\",Diesel\\nMahindra Jeep MM 550 XDB,Mahindra,2019,\"3,90,000\",60 kms,Diesel\\nRenault Duster 110PS Diesel RxZ,Renault,2012,\"5,01,000\",\"35,000 kms\",Diesel\\nMahindra Bolero SLE BS IV,Mahindra,2013,\"3,30,000\",\"80,200 kms\",Diesel\\nForce Motors Force One LX ABS 7 STR,Force,2015,\"5,80,000\",\"3,200 kms\",Diesel\\nMaruti Suzuki SX4,Maruti,2012,\"2,65,000\",\"46,000 kms\",Diesel\\nMahindra Jeep CL550 MDI,Mahindra,2019,\"3,79,000\",\"0,000 kms\",Diesel\\nMaruti Suzuki Alto 800,Maruti,2015,\"2,19,000\",\"5,000 kms\",Petrol\\nMahindra Jeep CL550 MDI,Mahindra,2018,\"3,85,000\",588 kms,Diesel\\nToyota Etios,Toyota,2011,\"2,75,000\",\"36,000 kms\",Diesel\\nVolkswagen Polo,Volkswagen,2015,\"3,30,000\",\"38,000 kms\",Diesel\\nHonda City ZX VTEC,Honda,2008,\"1,10,000\",\"45,000 kms\",Petrol\\nMaruti Suzuki Wagon R LX BS III,Maruti,2006,\"80,000\",\"71,200 kms\",Petrol\\nHonda City VX O MT Diesel,Honda,2016,\"5,19,000\",\"52,000 kms\",Diesel\\nMahindra Thar CRDe 4x4 AC,Mahindra,2016,\"7,30,000\",\"29,000 kms\",Diesel\\nMitsubishi Pajero Sport Limited Edition,Mitsubishi,2015,\"14,75,000\",\"47,000 kms\",Diesel\\nAudi A4 1.8 TFSI Multitronic Premium Plus,Audi,2009,\"6,99,000\",\"47,000 kms\",Petrol\\nMercedes Benz GLA Class 200 CDI Sport,Mercedes,2015,\"20,00,000\",\"20,000 kms\",Diesel\\nLand Rover Freelander 2 SE,Land,2015,\"21,00,000\",\"30,000 kms\",Diesel\\nRenault Kwid RXT,Renault,2017,\"3,40,000\",\"5,000 kms\",Petrol\\nTata Aria Pleasure 4X2,Tata,2014,\"3,90,000\",\"35,000 kms\",Diesel\\nMercedes Benz B Class B180 Sports,Mercedes,2014,\"14,00,000\",\"31,000 kms\",Petrol\\nDatsun GO T O,Datsun,2016,\"2,45,000\",\"7,000 kms\",Petrol\\nTata Indigo eCS LX TDI BS III,Tata,2016,\"3,20,000\",\"1,75,430 kms\",Diesel\\nTata Indigo eCS LX TDI BS III,Tata,2016,\"3,20,000\",\"1,75,400 kms\",Diesel\\nHonda Jazz VX MT,Honda,2016,\"4,50,000\",\"41,000 kms\",Petrol\\nHonda Amaze 1.2 S i VTEC,Honda,2014,\"3,11,000\",\"33,000 kms\",Petrol\\nHonda Amaze,Honda,2013,\"2,84,999\",\"46,000 kms\",Diesel\\nHonda City,Honda,2012,\"3,99,999\",\"45,000 kms\",Petrol\\nHonda City,Honda,2015,\"5,99,999\",\"39,000 kms\",Diesel\\nHonda Amaze,Honda,2015,\"3,44,999\",\"22,000 kms\",Petrol\\nAudi A4 1.8 TFSI Multitronic Premium Plus,Audi,2009,\"6,99,000\",\"47,000 kms\",Petrol\\nForce Motors Force One LX ABS 7 STR,Force,2015,\"5,80,000\",\"3,200 kms\",Diesel\\nMahindra Scorpio S4,Mahindra,2015,\"8,55,000\",\"30,000 kms\",Diesel\\nHyundai i20 Active 1.4L SX O,Hyundai,2015,\"5,35,000\",\"37,000 kms\",Diesel\\nMini Cooper S,Mini,2013,\"18,91,111\",\"13,000 kms\",Petrol\\nMaruti Suzuki Ciaz ZXI Plus,Maruti,2017,\"6,99,000\",\"14,000 kms\",Petrol\\nChevrolet Tavera Neo,Chevrolet,2013,\"3,75,000\",\"55,000 kms\",Diesel\\nHonda Amaze,Honda,2013,\"2,84,999\",\"46,000 kms\",Diesel\\nHyundai Eon Sportz,Hyundai,2012,\"1,78,000\",\"30,000 kms\",Petrol\\nTata Sumo Gold Select Variant,Tata,2013,\"3,00,000\",\"50,000 kms\",Diesel\\nMaruti Suzuki Wagon R 1.0,Maruti,2003,\"90,000\",\"45,000 kms\",Petrol\\nMaruti Suzuki Esteem VXi BS III,Maruti,2006,\"95,000\",\"45,000 kms\",Petrol\\nMaruti Suzuki Eeco 5 STR WITH AC HTR,Maruti,2015,\"2,55,000\",\"9,300 kms\",Petrol\\nChevrolet Enjoy 1.4 LS 8 STR,Chevrolet,2013,\"2,45,000\",\"55,000 kms\",Diesel\\nHyundai i20 Asta 1.4 CRDI 6 Speed,Hyundai,2012,\"3,29,500\",\"36,200 kms\",Diesel\\nFord Figo Diesel EXI,Ford,2014,\"1,95,000\",\"50,000 kms\",Diesel\\nMaruti Suzuki Eeco 5 STR WITH AC HTR,Maruti,2015,\"2,51,111\",\"55,000 kms\",Petrol\\nMaruti Suzuki Ertiga ZXi,Maruti,2014,\"5,69,999\",\"45,000 kms\",Petrol\\nMaruti Suzuki Esteem LXi BS III,Maruti,2007,\"69,999\",\"51,000 kms\",Petrol\\nMaruti Suzuki Ritz VXI,Maruti,2014,\"2,99,999\",\"19,000 kms\",Petrol\\nMaruti Suzuki Dzire,Maruti,2009,\"2,20,000\",\"46,000 kms\",Petrol\\nMaruti Suzuki Ritz LDi,Maruti,2013,\"3,99,999\",\"33,000 kms\",Diesel\\nMaruti Suzuki SX4 ZXI MT,Maruti,2010,\"2,49,999\",\"36,000 kms\",Petrol\\nMaruti Suzuki Wagon R 1.0 VXi,Maruti,2015,\"2,89,999\",\"22,000 kms\",Petrol\\nMini Cooper S 1.6,Mini,2013,\"18,91,111\",\"13,500 kms\",Petrol\\nNissan Terrano XL D Plus,Nissan,2015,\"4,99,999\",\"60,000 kms\",Diesel\\nRenault Duster 85 PS RxE Diesel,Renault,2013,\"4,89,999\",\"27,000 kms\",Diesel\\nRenault Duster 85 PS RxE Diesel,Renault,2014,\"4,89,999\",\"59,000 kms\",Diesel\\nRenault Duster 85 PS RxL Diesel,Renault,2015,\"5,49,999\",\"19,000 kms\",Diesel\\nMaruti Suzuki Dzire ZXI,Maruti,2013,\"3,80,000\",\"30,000 kms\",Petrol\\nRenault Kwid RXT Opt,Renault,2018,\"3,25,000\",\"15,000 kms\",Petrol\\nMaruti Suzuki Maruti 800 Std,Maruti,2003,\"57,000\",\"56,758 kms\",Petrol\\nRenault Kwid 1.0 RXT AMT,Renault,2018,\"3,49,999\",\"10,000 kms\",Petrol\\nRenault Lodgy 85 PS RXL,Renault,2018,\"6,89,999\",\"20,000 kms\",Diesel\\nRenault Scala RxL Diesel,Renault,2014,\"3,49,999\",\"49,000 kms\",Diesel\\nHyundai Grand i10 Asta 1.2 Kappa VTVT O,Hyundai,2014,\"4,10,000\",\"41,000 kms\",Petrol\\nMaruti Suzuki Swift Dzire VXi 1.2 BS IV,Maruti,2011,\"2,25,000\",\"45,000 kms\",Petrol\\nChevrolet Beat LS Petrol,Chevrolet,2010,\"1,20,000\",\"43,000 kms\",Petrol\\nTata Indigo eCS LX TDI BS III,Tata,2016,\"3,20,000\",\"1,75,430 kms\",Diesel\\nHyundai Santro Xing XO eRLX Euro III,Hyundai,2000,\"59,000\",\"56,450 kms\",Petrol\\nHyundai Fluidic Verna 1.6 CRDi SX,Hyundai,2015,\"5,40,000\",\"38,000 kms\",Diesel\\n\"Commercial , DZire LDI, 2016, for sale\",Commercial,...,Ask For Price,,\\nChevrolet Beat LS Petrol,Chevrolet,2010,\"80,000\",\"56,000 kms\",Petrol\\nMahindra Quanto C8,Mahindra,2013,\"3,40,000\",\"37,000 kms\",Diesel\\nFiat Petra ELX 1.2 PS,Fiat,2008,\"75,000\",\"65,000 kms\",Petrol\\nChevrolet Beat LS Petrol,Chevrolet,2015,\"2,20,000\",\"32,700 kms\",Petrol\\nSkoda Fabia 1.2L Diesel Ambiente,Skoda,2011,\"1,59,500\",\"38,200 kms\",Diesel\\nFord EcoSport Titanium 1.5L TDCi,Ford,2016,\"5,99,000\",\"30,000 kms\",Diesel\\nHyundai Accent GLX,Hyundai,2006,\"80,000\",\"56,000 kms\",Petrol\\nYama,Yamaha,r 15,\"55,000\",,\\nMaruti Suzuki Swift LDi,Maruti,2010,Ask For Price,\"52,000 kms\",Diesel\\nMahindra TUV300 T4 Plus,Mahindra,2016,\"6,75,000\",\"9,000 kms\",Diesel\\nMini Cooper S 1.6,Mini,2013,\"18,91,111\",\"13,000 kms\",Petrol\\nMini Cooper S 1.6,Mini,2013,\"18,91,111\",\"13,000 kms\",Petrol\\nTata Indica V2 Xeta e GLE,Tata,2008,\"1,50,000\",\"11,000 kms\",Petrol\\nMini Cooper S,Mini,2013,\"18,91,111\",\"13,000 kms\",Petrol\\nTata Indigo CS LS DiCOR,Tata,2009,\"72,500\",\"46,000 kms\",Diesel\\nMaruti Suzuki Swift VXi 1.2 ABS BS IV,Maruti,2019,\"6,10,000\",73 kms,Petrol\\nMahindra Scorpio VLX Special Edition BS III,Mahindra,2004,\"2,30,000\",\"1,60,000 kms\",Diesel\\nTata Indica eV2 LS,Tata,2017,Ask For Price,\"84,000 kms\",Diesel\\nHonda Accord,Honda,2009,\"1,75,000\",\"58,559 kms\",Petrol\\nMahindra Scorpio S4,Mahindra,2015,\"8,55,000\",\"30,000 kms\",Diesel\\nChevrolet Tavera Neo,Chevrolet,2013,\"3,75,000\",\"55,000 kms\",Diesel\\nFord EcoSport Titanium 1.5 TDCi,Ford,2014,\"5,20,000\",\"57,000 kms\",Diesel\\nMaruti Suzuki Ertiga,Maruti,2015,\"5,24,999\",\"50,000 kms\",Diesel\\nHonda Amaze,Honda,2014,\"2,99,999\",\"37,000 kms\",Petrol\\nMaruti Suzuki Dzire,Maruti,2012,\"2,99,999\",\"40,000 kms\",Petrol\\nHonda City,Honda,2011,\"2,84,999\",\"55,000 kms\",Petrol\\nMahindra Scorpio 2.6 CRDe,Mahindra,2007,\"2,20,000\",\"1,70,000 kms\",Diesel\\nMaruti Suzuki Dzire,Maruti,2014,\"4,24,999\",\"55,000 kms\",Diesel\\nHonda City,Honda,2015,\"6,44,999\",\"39,000 kms\",Petrol\\nHonda Mobilio,Honda,2014,\"3,99,999\",\"44,000 kms\",Petrol\\nToyota Corolla Altis,Toyota,2009,\"1,99,999\",\"65,000 kms\",Petrol\\nHonda City,Honda,2014,\"5,84,999\",\"39,000 kms\",Petrol\\nSkoda Laura,Skoda,2012,\"3,49,999\",\"44,000 kms\",Diesel\\nRenault Duster,Renault,2015,\"4,49,999\",\"49,000 kms\",Diesel\\nMaruti Suzuki Ertiga,Maruti,2018,\"7,99,999\",\"9,000 kms\",Diesel\\nMaruti Suzuki Dzire,Maruti,2015,\"4,44,999\",\"45,000 kms\",Diesel\\nMahindra XUV500,Mahindra,2014,\"6,49,999\",\"47,000 kms\",Diesel\\nHyundai Verna Fluidic,Hyundai,2012,\"4,44,999\",\"40,000 kms\",Diesel\\nMaruti Suzuki Vitara Brezza,Maruti,2016,\"6,89,999\",\"29,000 kms\",Diesel\\nMaruti Suzuki Wagon R,Maruti,2016,\"3,44,999\",\"15,000 kms\",Petrol\\nMahindra Scorpio,Mahindra,2015,\"9,44,999\",\"45,000 kms\",Diesel\\nHonda Amaze,Honda,2014,\"2,74,999\",\"35,000 kms\",Petrol\\nMahindra XUV500,Mahindra,2013,\"6,89,999\",\"80,000 kms\",Diesel\\nMahindra Scorpio,Mahindra,2013,\"5,74,999\",\"68,000 kms\",Diesel\\nSkoda Laura,Skoda,2013,\"3,74,999\",\"50,000 kms\",Diesel\\nVolkswagen Polo,Volkswagen,2010,\"1,99,999\",\"60,000 kms\",Diesel\\nHyundai Elite i20,Hyundai,2016,\"5,49,999\",\"9,000 kms\",Petrol\\nTata Manza Aura Quadrajet,Tata,2012,\"1,30,000\",\"72,000 kms\",Diesel\\nChevrolet Sail UVA Petrol LT ABS,Chevrolet,2013,\"2,10,000\",\"60,000 kms\",Petrol\\nRenault Duster 110 PS RxZ Diesel Plus,Renault,2012,\"5,01,000\",\"38,000 kms\",Diesel\\nHyundai Verna Fluidic 1.6 VTVT SX,Hyundai,2013,\"4,01,000\",\"45,000 kms\",Diesel\\nAudi A4 2.0 TDI 177bhp Premium,Audi,2012,\"13,50,000\",\"40,000 kms\",Diesel\\nHyundai Elantra SX,Hyundai,2013,\"6,00,000\",\"20,000 kms\",Petrol\\nMahindra Scorpio VLX 4WD Airbag,Mahindra,2013,\"6,10,000\",\"35,000 kms\",Diesel\\nMahindra KUV100 K8 D 6 STR,Mahindra,2016,\"4,00,000\",\"20,000 kms\",Diesel\\nRenault Scala RxL Diesel Travelogue,Renault,2015,\"3,75,000\",\"25,000 kms\",Diesel\\nMahindra Quanto C8,Mahindra,2013,\"3,75,000\",\"20,000 kms\",Diesel\\nHyundai Grand i10 Sportz O 1.2 Kappa VTVT,Hyundai,2014,\"3,65,000\",\"20,000 kms\",Petrol\\nHyundai i20 Active 1.2 SX,Hyundai,2015,\"5,00,000\",\"18,000 kms\",Petrol\\nMahindra Xylo E4,Mahindra,2012,\"4,00,000\",\"35,000 kms\",Diesel\\nHyundai Grand i10,Hyundai,2017,\"5,24,999\",\"6,821 kms\",Petrol\\nHyundai i20,Hyundai,2014,\"4,49,999\",\"23,000 kms\",Petrol\\nHyundai Eon,Hyundai,2014,\"1,74,999\",\"14,000 kms\",Petrol\\nHyundai i10,Hyundai,2012,\"2,44,999\",\"38,000 kms\",Petrol\\nHyundai i20 Active,Hyundai,2015,\"5,74,999\",\"35,000 kms\",Diesel\\nDatsun Redi GO,Datsun,2017,\"2,44,999\",\"22,000 kms\",Petrol\\nToyota Etios Liva,Toyota,2011,\"2,39,999\",\"41,000 kms\",Petrol\\nHyundai Accent,Hyundai,2010,\"99,999\",\"45,000 kms\",Petrol\\nHyundai Verna,Hyundai,2014,\"4,89,999\",\"44,000 kms\",Diesel\\nMaruti Suzuki Swift,Maruti,2013,\"3,24,999\",\"45,000 kms\",Diesel\\nToyota Fortuner,Toyota,2011,\"10,74,999\",\"52,000 kms\",Diesel\\nHyundai i10 Sportz,Hyundai,2012,\"2,30,000\",\"34,000 kms\",Petrol\\nMahindra Bolero Power Plus SLE,Mahindra,2018,\"6,99,000\",\"1,800 kms\",Diesel\\nselling car Ta,selling,Zest,Ask For Price,,\\nMahindra XUV500,Mahindra,2015,\"10,00,000\",\"15,000 kms\",Diesel\\nHonda City 1.5 V MT Exclusive,Honda,2010,\"2,40,000\",\"4,00,000 kms\",Petrol\\nChevrolet Spark LT 1.0 Airbag,Chevrolet,2009,\"1,10,000\",\"44,000 kms\",Petrol\\nMahindra Jeep MM 550 XDB,Mahindra,2019,\"3,90,000\",60 kms,Diesel\\nRenault Duster 110PS Diesel RxZ,Renault,2012,\"5,01,000\",\"35,000 kms\",Diesel\\nMahindra XUV500,Mahindra,2016,\"11,30,000\",\"72,000 kms\",Diesel\\nTata Indigo eCS VX CR4 BS IV,Tata,2014,\"2,50,000\",\"40,000 kms\",Diesel\\nTata Zest 90,Tata,/-Rs,Ask For Price,,\\nMahindra Bolero SLE BS IV,Mahindra,2013,\"3,30,000\",\"80,200 kms\",Diesel\\nForce Motors Force One LX ABS 7 STR,Force,2015,\"5,80,000\",\"3,200 kms\",Diesel\\nSkoda Rapid Elegance 1.6 TDI CR MT,Skoda,2013,\"3,40,000\",\"48,000 kms\",Diesel\\nTata Vista Quadrajet VX,Tata,2011,\"1,20,000\",\"90,000 kms\",Diesel\\nMaruti Suzuki Alto K10 VXi AT,Maruti,2015,\"2,65,000\",\"12,000 kms\",Petrol\\nMaruti Suzuki SX4,Maruti,2012,\"2,65,000\",\"46,000 kms\",Diesel\\nMaruti Suzuki Zen LXi BS III,Maruti,2003,\"85,000\",\"69,900 kms\",Petrol\\nMahindra Jeep CL550 MDI,Mahindra,2019,\"3,79,000\",\"0,000 kms\",Diesel\\nHyundai i10 Magna 1.2,Hyundai,2011,\"1,75,000\",\"45,000 kms\",Petrol\\nMaruti Suzuki Alto 800,Maruti,2015,\"2,19,000\",\"5,000 kms\",Petrol\\nMaruti Suzuki Swift Dzire Tour LDi,Maruti,2016,\"3,50,000\",\"1,66,000 kms\",Diesel\\nHonda City ZX EXi,Honda,2008,\"1,49,000\",\"42,000 kms\",Petrol\\nMahindra Jeep CL550 MDI,Mahindra,2018,\"3,85,000\",588 kms,Diesel\\nMahindra Jeep MM 550 XDB,Mahindra,2006,\"4,25,000\",122 kms,Diesel\\nChevrolet Beat Diesel,Chevrolet,2017,\"1,50,000\",\"62,000 kms\",Diesel\\nHonda City 1.5 S MT,Honda,2010,\"2,25,000\",\"70,000 kms\",Petrol\\nMaruti Suzuki Swift Dzire car,Maruti,sale,\"3,00,000\",,\\nHyundai Verna 1.4 VTVT,Hyundai,2014,\"3,75,000\",\"36,000 kms\",Petrol\\nToyota Innova 2.5 E MS 7 STR BS IV,Toyota,2012,\"7,70,000\",0 kms,Diesel\\nMaruti Suzuki Alto 800 Lxi,Maruti,2018,Ask For Price,\"24,000 kms\",Petrol\\nMaruti Suzuki Maruti 800 Std \\xe2\\x80\\x93 Befo,Maruti,1995,\"30,000\",\"55,000 kms\",Petrol\\nToyota Etios,Toyota,2011,\"2,75,000\",\"36,000 kms\",Diesel\\nVolkswagen Polo,Volkswagen,2015,\"3,30,000\",\"38,000 kms\",Diesel\\nMaruti Suzuki Swift,Maruti,2014,\"3,35,000\",\"55,000 kms\",Diesel\\nHyundai Elite i20 Asta 1.4 CRDI,Hyundai,2015,\"4,50,000\",\"20,000 kms\",Diesel\\nMaruti Suzuki Swift Dzire VXi 1.2 BS IV,Maruti,2012,\"2,25,000\",\"40,000 kms\",Petrol\\nMaruti Suzuki Swift Dzire Tour (Gat,Maruti,ara),\"3,00,000\",,\\nMaruti Suzuki Versa DX2 8 SEATER BSIII,Maruti,2004,\"80,000\",\"50,000 kms\",Petrol\\nTata Indigo LX TDI BS III,Tata,2016,\"1,30,000\",\"1,04,000 kms\",Diesel\\nVolkswagen Vento Konekt Diesel Highline,Volkswagen,2011,\"2,45,000\",\"65,000 kms\",Diesel\\nMercedes Benz C Class 200 CDI Classic,Mercedes,2002,\"3,99,000\",\"41,000 kms\",Petrol\\nMaruti Suzuki Ertiga VDi,Maruti,2013,\"4,50,000\",\"90,000 kms\",Diesel\\nURJE,URJENT,SELL,\"1,80,000\",,\\nHonda City,Honda,2000,\"65,000\",\"80,000 kms\",Petrol\\nHyundai Santro Xing GLS,Hyundai,2006,\"75,000\",\"46,000 kms\",Petrol\\nMaruti Suzuki Omni Limited Edition,Maruti,2001,\"70,000\",\"70,000 kms\",Petrol\\nHyundai Sonata Transform 2.4 GDi MT,Hyundai,2017,\"1,90,000\",\"36,469 kms\",Diesel\\nHyundai Elite i20 Sportz 1.2,Hyundai,2018,\"6,00,000\",\"7,800 kms\",Petrol\\nVolkswagen Vento Konekt Diesel Highline,Volkswagen,2011,\"2,45,000\",\"65,000 kms\",Diesel\\nMaruti Suzuki Alto 800 Lxi,Maruti,2017,\"2,40,000\",\"60,000 kms\",Petrol\\nMaruti Suzuki Alto LXi BS III,Maruti,2011,\"1,55,000\",\"32,000 kms\",Petrol\\nHonda Jazz S MT,Honda,2009,\"1,69,999\",\"24,695 kms\",Petrol\\nHyundai Grand i10 Sportz 1.2 Kappa VTVT,Hyundai,2017,\"4,50,000\",\"15,141 kms\",Petrol\\nMaruti Suzuki Zen LXi BSII,Maruti,2001,\"40,000\",\"40,000 kms\",Petrol\\nMahindra Scorpio W Turbo 2.6DX 9 Seater,Mahindra,2012,\"1,65,000\",\"65,000 kms\",Diesel\\nSwift Dzire Tour 27 Dec 2016 Regis,Swift,tion,\"3,70,000\",,\\nMaruti Suzuki Alto K10 VXi,Maruti,2014,\"2,70,000\",\"22,000 kms\",Petrol\\nHyundai Grand i10 Asta 1.2 Kappa VTVT,Hyundai,2016,\"2,80,000\",\"59,910 kms\",Diesel\\nMahindra XUV500 W8,Mahindra,2012,\"5,60,000\",\"1,00,000 kms\",Diesel\\nHyundai Creta 1.6 SX Plus Petrol,Hyundai,2016,\"9,50,000\",\"25,000 kms\",Petrol\\nHyundai i20 Magna O 1.2,Hyundai,2013,\"3,10,000\",\"35,000 kms\",Petrol\\nRenault Duster 85 PS RxL Explore LE,Renault,2015,\"7,15,000\",\"65,000 kms\",Diesel\\nHyundai Grand i10 Sportz 1.2 Kappa VTVT,Hyundai,2014,\"3,40,000\",\"35,000 kms\",Petrol\\nHonda Brio V MT,Honda,2012,\"2,35,000\",\"33,000 kms\",Petrol\\nMahindra TUV300 T4 Plus,Mahindra,2017,\"6,10,000\",\"68,000 kms\",Diesel\\nChevrolet Spark LS 1.0,Chevrolet,2010,\"95,000\",\"23,000 kms\",Petrol\\nMahindra TUV300 T8,Mahindra,2018,\"10,00,000\",\"4,500 kms\",Diesel\\nMaruti Suzuki Swift Dzire Tour LDi,Maruti,2015,\"2,20,000\",\"1,29,000 kms\",Diesel\\nNissan X Trail Select Variant,Nissan,2019,\"12,00,000\",300 kms,Diesel\\nMaruti Suzuki Alto 800 Vxi,Maruti,2015,\"2,30,000\",\"5,000 kms\",Petrol\\nFord Ikon 1.3 CLXi NXt Finesse,Ford,2001,\"45,000\",\"65,000 kms\",Petrol\\nToyota Fortuner 3.0 4x4 MT,Toyota,2010,\"9,40,000\",\"1,31,000 kms\",Diesel\\nTata Manza ELAN Quadrajet,Tata,2010,\"1,55,555\",\"1,11,111 kms\",Petrol\\nTata zest x,Tata,odel,\"3,20,000\",,\\nMahindra xyl,Mahindra,2 bs,\"3,50,000\",,\\nMercedes Benz A Class A 180 Sport Petrol,Mercedes,2013,\"15,00,000\",\"14,000 kms\",Petrol\\nChevrolet Beat LS Diesel,Chevrolet,2016,\"2,10,000\",\"22,000 kms\",Diesel\\nFord EcoSport Trend 1.5L TDCi,Ford,2013,\"4,95,000\",\"38,000 kms\",Diesel\\nTata Indigo LS,Tata,2016,\"1,25,000\",\"70,000 kms\",Diesel\\nHyundai i20 Magna 1.2,Hyundai,2010,\"1,95,000\",\"36,000 kms\",Petrol\\nVolkswagen Vento Highline Plus 1.5 Diesel AT,Volkswagen,2015,\"5,50,000\",\"34,000 kms\",Diesel\\nRenault Kwid RXT,Renault,2015,\"2,70,000\",\"43,000 kms\",Petrol\\nUsed Commercial Maruti Omn,Used,arry,\"1,50,000\",,\\nFord EcoSport Titanium 1.5L TDCi,Ford,2014,\"5,00,000\",\"40,000 kms\",Diesel\\nHonda Amaze 1.5 E i DTEC,Honda,2016,\"2,40,000\",\"1,60,000 kms\",Diesel\\nHyundai Verna 1.6 EX VTVT,Hyundai,2017,\"8,00,000\",\"12,000 kms\",Petrol\\nBMW 5 Series 520d Sedan,BMW,2011,\"12,99,000\",\"49,000 kms\",Diesel\\nSkoda Superb 1.8 TFSI AT,Skoda,2011,\"5,30,000\",\"68,000 kms\",Petrol\\nAudi Q3 2.0 TDI quattro Premium,Audi,2013,\"14,99,000\",\"37,000 kms\",Diesel\\nMahindra Bolero DI BSII,Mahindra,2012,\"2,20,000\",\"59,466 kms\",Diesel\\nMaruti Suzuki Zen Estilo LXI Green CNG,Maruti,2011,Ask For Price,\"16,000 kms\",Petrol\\nMahindra Scorpio S10,Mahindra,2015,\"9,00,000\",\"97,200 kms\",Diesel\\nFord Figo Duratorq Diesel Titanium 1.4,Ford,2012,\"2,50,000\",\"99,000 kms\",Diesel\\nMaruti Suzuki Wagon R VXI BS IV,Maruti,2018,\"3,95,000\",\"25,500 kms\",Petrol\\nMahindra Logan Diesel 1.5 DLS,Mahindra,2009,\"1,30,000\",\"66,000 kms\",Petrol\\nTata Nano GenX XMA,Tata,2010,\"32,000\",\"44,005 kms\",Petrol\\nMahindra TUV300 T4 Plus,Mahindra,2016,\"5,40,000\",\"35,000 kms\",Diesel\\nMahindra TUV300 T4 Plus,Mahindra,2016,\"5,40,000\",\"35,000 kms\",Diesel\\nHyundai Elite i20 Magna 1.2,Hyundai,2015,\"4,05,000\",\"28,000 kms\",Petrol\\nHyundai Elite i20 Magna 1.2,Hyundai,2015,\"4,00,000\",\"30,000 kms\",Petrol\\nHonda City SV,Honda,2017,\"7,60,000\",\"4,000 kms\",Petrol\\nMaruti Suzuki Baleno Delta 1.2,Maruti,2016,\"5,00,000\",\"28,000 kms\",Petrol\\nFord Figo Petrol LXI,Ford,2011,\"1,75,000\",\"75,000 kms\",Petrol\\nMahindra Scorpio S10,Mahindra,2015,\"9,00,000\",\"97,200 kms\",Diesel\\nHonda City,Honda,2017,\"7,50,000\",\"3,000 kms\",Petrol\\nHyundai Elite i20 Magna 1.2,Hyundai,2015,\"4,19,000\",\"20,000 kms\",Petrol\\nMaruti Suzuki Versa DX2 8 SEATER BSIII,Maruti,2004,\"90,000\",\"50,000 kms\",Petrol\\nHyundai Eon Era Plus,Hyundai,2018,\"1,40,000\",\"2,110 kms\",Petrol\\nMitsubishi Pajero Sport Limited Edition,Mitsubishi,2015,\"15,40,000\",\"43,222 kms\",Petrol\\nHyundai i10 Magna 1.2 Kappa2,Hyundai,2008,\"2,75,000\",\"1,00,200 kms\",Petrol\\nToyota Corolla H2,Toyota,2003,\"1,50,000\",\"1,00,000 kms\",Petrol\\nMaruti Suzuki Swift Dzire Tour VXi,Maruti,2011,\"2,30,000\",65 kms,Petrol\\nTata Indigo CS eLS BS IV,Tata,2015,\"1,23,000\",\"1,00,000 kms\",Diesel\\nMahindra Scorpio S10,Mahindra,2015,\"9,00,000\",\"97,200 kms\",Diesel\\nMahindra Scorpio S10,Mahindra,2015,\"9,00,000\",\"97,200 kms\",Diesel\\nHyundai Xcent Base 1.1 CRDi,Hyundai,2016,\"3,00,000\",\"1,40,000 kms\",Diesel\\nHonda City,Honda,2015,\"4,99,999\",\"55,000 kms\",Petrol\\nHyundai Accent Executive Edition,Hyundai,2009,\"1,65,000\",\"48,000 kms\",Petrol\\nMaruti Suzuki Baleno Delta 1.2,Maruti,2016,\"4,98,000\",\"22,000 kms\",Petrol\\nTata Zest XE 75 PS Diesel,Tata,2018,\"4,80,000\",\"1,03,553 kms\",Diesel\\nMaruti Suzuki Dzire LDI,Maruti,2017,\"4,88,000\",\"80,000 kms\",Diesel\\nTata Sumo Gold LX BS IV,Tata,2014,\"2,50,000\",\"99,000 kms\",Diesel\\nToyota Corolla Altis GL Petrol,Toyota,2010,\"2,20,000\",\"58,000 kms\",Petrol\\nMaruti Suzuki Eeco 7 STR,Maruti,2013,\"2,90,000\",\"70,000 kms\",LPG\\nToyota Fortuner 3.0 4x2 MT,Toyota,2015,\"15,25,000\",\"1,20,000 kms\",Diesel\\nMahindra XUV500 W6,Mahindra,2013,\"5,48,900\",\"49,800 kms\",Diesel\\nTata Tigor Revotron XZ,Tata,2019,\"6,50,000\",100 kms,Diesel\\nMaruti Suzuki 800,Maruti,2001,\"55,000\",\"81,876 kms\",Petrol\\nMaruti Suzuki Ertiga Vxi,Maruti,2015,\"5,50,000\",\"75,000 kms\",Petrol\\nMaruti Suzuki Versa DX2 8 SEATER BSIII,Maruti,2004,\"90,000\",\"50,000 kms\",Petrol\\nHonda Mobilio S i DTEC,Honda,2014,\"3,99,000\",\"44,000 kms\",Diesel\\nMaruti Suzuki Ertiga,Maruti,2016,\"7,30,000\",\"55,000 kms\",Diesel\\nMaruti Suzuki Vitara Brezza,Maruti,2017,\"7,25,000\",\"36,000 kms\",Diesel\\nHyundai Verna 1.6 CRDI E,Hyundai,2016,\"1,95,000\",\"56,000 kms\",Diesel\\nMaruti Suzuki Swift VXI BSIII,Maruti,2007,\"1,30,000\",\"62,000 kms\",Petrol\\nToyota Fortuner 3.0 4x2 MT,Toyota,2015,\"15,25,000\",\"1,20,000 kms\",Diesel\\nMaruti Suzuki Omni Select Variant,Maruti,2014,\"1,90,000\",\"6,020 kms\",Petrol\\nHonda Amaze,Honda,2013,\"2,50,000\",\"55,700 kms\",Diesel\\nTata Indica,Tata,2005,\"80,000\",\"42,000 kms\",Petrol\\nHyundai Santro Xing,Hyundai,2003,\"1,20,000\",\"50,000 kms\",Petrol\\nMaruti Suzuki Zen Estilo,Maruti,2010,\"1,49,000\",\"35,000 kms\",Petrol\\nMaruti Suzuki Wagon R LXI BS IV,Maruti,2014,\"2,50,000\",\"18,500 kms\",Petrol\\nMaruti Suzuki Wagon R,Maruti,2007,\"1,20,000\",\"7,000 kms\",Petrol\\nHonda Brio VX AT,Honda,2017,\"4,50,000\",\"11,000 kms\",Petrol\\nHyundai Xcent Base 1.1 CRDi,Hyundai,2015,Ask For Price,\"1,80,000 kms\",Diesel\\nMaruti Suzuki Zen LXi BSII,Maruti,2003,\"99,999\",\"53,000 kms\",Petrol\\nMaruti Suzuki Zen Estilo LXI Green CNG,Maruti,2008,\"1,35,000\",\"23,000 kms\",Petrol\\nMaruti Suzuki Wagon R Select Variant,Maruti,2016,\"2,25,000\",\"35,500 kms\",Diesel\\nMaruti Suzuki Alto LXi BS III,Maruti,2010,\"99,000\",\"22,134 kms\",Petrol\\nRenault Kwid RXT,Renault,2019,\"3,70,000\",\"1,000 kms\",Petrol\\nTata Nano Lx BSIV,Tata,2010,\"52,000\",\"9,000 kms\",Petrol\\nJaguar XE XE Portfolio,Jaguar,2016,\"28,00,000\",\"8,500 kms\",Petrol\\nHyundai Xcent S 1.2,Hyundai,2015,Ask For Price,\"35,000 kms\",Petrol\\nHyundai Eon Magna Plus,Hyundai,2014,\"1,90,000\",\"35,000 kms\",Petrol\\nHonda City 1.5 S MT,Honda,2014,\"4,99,000\",\"22,000 kms\",Petrol\\nHindustan Motors Ambassador,Hindustan,2002,\"90,000\",\"25,000 kms\",Diesel\\nMaruti Suzuki Ritz GENUS VXI,Maruti,2010,\"1,49,000\",\"40,000 kms\",Petrol\\nHyundai Grand i10 Magna AT 1.2 Kappa VTVT,Hyundai,2017,\"4,00,000\",\"20,000 kms\",Petrol\\nHyundai Eon D Lite Plus,Hyundai,2016,\"1,20,000\",\"87,000 kms\",Petrol\\nMaruti Suzuki Swift Dzire VXi 1.2 BS IV,Maruti,2015,\"2,50,000\",\"55,000 kms\",Petrol\\nMaruti Suzuki Wagon R VXI BS IV,Maruti,2017,\"3,75,000\",\"23,000 kms\",Petrol\\nHonda Amaze 1.2 VX i VTEC,Honda,2014,\"3,81,000\",\"6,000 kms\",Petrol\\nMaruti Suzuki Estilo VXi ABS BS IV,Maruti,2013,\"1,80,000\",\"65,000 kms\",Petrol\\nMaruti Suzuki Vitara Brezza LDi O,Maruti,2016,\"5,80,000\",\"25,000 kms\",Diesel\\nMaruti Suzuki Eeco 5 STR WITH AC HTR,Maruti,2015,\"2,78,000\",\"39,000 kms\",Petrol\\nToyota Innova 2.0 V,Toyota,2009,Ask For Price,\"15,574 kms\",Diesel\\nHyundai Creta 1.6 SX Plus Petrol AT,Hyundai,2016,\"10,00,000\",\"8,000 kms\",Petrol\\nMahindra Scorpio Vlx BSIV,Mahindra,2013,\"6,90,000\",\"75,000 kms\",Diesel\\nMaruti Suzuki Ertiga VDi,Maruti,2012,\"4,80,000\",\"51,000 kms\",Diesel\\nMitsubishi Lancer 1.8 LXi,Mitsubishi,2006,\"85,000\",\"50,000 kms\",Petrol\\nMaruti Suzuki Maruti 800 AC,Maruti,2001,\"40,000\",\"75,000 kms\",Petrol\\nMaruti Suzuki Alto 800 LXI CNG O,Maruti,2015,\"90,000\",\"55,800 kms\",Petrol\\nHyundai Grand i10 Magna 1.2 Kappa VTVT,Hyundai,2015,\"3,40,000\",\"53,000 kms\",Petrol\\nHyundai Eon D Lite Plus,Hyundai,2018,\"2,60,000\",\"25,000 kms\",Petrol\\nFord Fiesta SXi 1.6 ABS,Ford,2009,\"2,50,000\",\"56,400 kms\",Petrol\\nMaruti Suzuki Ritz VDi,Maruti,2010,\"1,80,000\",\"72,160 kms\",Diesel\\nHyundai Verna Fluidic New,Hyundai,2012,\"3,50,000\",\"10,000 kms\",Diesel\\nMaruti Suzuki Wagon R LXi BS III,Maruti,2006,\"90,001\",\"48,000 kms\",Petrol\\nMaruti Suzuki Estilo LX BS IV,Maruti,2007,\"1,15,000\",\"36,000 kms\",Petrol\\nAudi A6 2.0 TDI Premium,Audi,2012,\"15,99,000\",\"11,500 kms\",Diesel\\nMaruti Suzuki Wagon R LXi BS III,Maruti,2003,\"1,30,000\",\"1,33,000 kms\",Petrol\\nMaruti Suzuki Wagon R,Maruti,2009,\"1,59,000\",\"27,000 kms\",Petrol\\nMaruti Suzuki Wagon R,Maruti,2009,\"1,60,000\",\"35,000 kms\",Petrol\\nMaruti Suzuki Alto,Maruti,2010,\"1,10,000\",\"55,000 kms\",Petrol\\nMaruti Suzuki Baleno Sigma 1.2,Maruti,2016,\"4,25,000\",\"40,000 kms\",Petrol\\nHyundai Verna 1.6 SX VTVT AT,Hyundai,2019,\"9,00,000\",\"2,000 kms\",Petrol\\nMaruti Suzuki Swift GLAM,Maruti,2009,\"1,50,000\",\"45,000 kms\",Petrol\\nHyundai Getz Prime 1.3 GVS,Hyundai,2009,\"1,10,000\",\"20,000 kms\",Petrol\\nHyundai Santro,Hyundai,2000,\"51,999\",\"88,000 kms\",Petrol\\nHyundai Getz Prime 1.3 GLX,Hyundai,2009,\"1,15,000\",\"20,000 kms\",Petrol\\nChevrolet Beat PS Diesel,Chevrolet,2012,\"2,15,000\",\"65,422 kms\",Diesel\\nFord EcoSport Trend 1.5 Ti VCT,Ford,2017,\"5,80,000\",\"10,000 kms\",Petrol\\nMaruti Suzuki Dzire ZXI,Maruti,2013,\"3,80,000\",\"35,000 kms\",Petrol\\nHyundai Fluidic Verna 1.6 CRDi SX,Hyundai,2013,\"3,50,000\",\"1,17,000 kms\",Diesel\\nTata Indica V2 DLG,Tata,2005,\"35,000\",\"1,50,000 kms\",Diesel\\nBMW X1 xDrive20d xLine,BMW,2011,\"11,50,000\",\"72,000 kms\",Diesel\\nHyundai i20 Asta 1.2,Hyundai,2010,\"3,00,000\",\"10,750 kms\",Petrol\\nHonda City 1.5 V AT,Honda,2009,\"2,69,000\",\"55,000 kms\",Petrol\\nTata Nano,Tata,2013,\"60,000\",\"6,800 kms\",Petrol\\nChevrolet Cruze LTZ AT,Chevrolet,2014,\"4,00,000\",\"41,000 kms\",Diesel\\nHyundai Verna Fluidic New,Hyundai,2015,\"4,30,000\",\"73,000 kms\",Diesel\\nHyun,Hyundai,Eon,Ask For Price,,\\nMaruti Suzuki Swift Dzire VDi,Maruti,2011,\"1,40,000\",\"65,000 kms\",Diesel\\nMahindra XUV500 W6,Mahindra,2014,\"85,00,003\",\"45,000 kms\",Diesel\\nMahindra XUV500 W10,Mahindra,2018,\"12,99,000\",\"40,000 kms\",Diesel\\nMaruti Suzuki Alto K10 LXi CNG,Maruti,2014,\"1,99,000\",\"37,000 kms\",Petrol\\nHyundai Accent GLE,Hyundai,2006,\"90,000\",\"55,000 kms\",Petrol\\nForce Motors One SUV,Force,2013,\"5,50,000\",\"1,40,000 kms\",Diesel\\nDatsun Go Plus T O,Datsun,2016,Ask For Price,5 kms,Petrol\\nMaruti Suzuki Alto,Maruti,2019,\"2,65,000\",\"9,800 kms\",Petrol\\nChevrolet Spark 1.0 LT,Chevrolet,2011,\"1,00,000\",\"27,000 kms\",Petrol\\nHyundai i10,Hyundai,2009,\"2,15,000\",\"27,000 kms\",Petrol\\nToyota Etios Liva GD,Toyota,2012,\"3,80,000\",\"20,000 kms\",Diesel\\nRenault Duster 85PS Diesel RxL Optional with Nav,Renault,2013,\"4,01,919\",\"57,923 kms\",Diesel\\nChevrolet Enjoy,Chevrolet,2014,\"4,90,000\",\"30,201 kms\",Diesel\\nMaruti Suzuki Alto 800 Lxi,Maruti,2017,\"2,80,000\",\"6,200 kms\",Petrol\\nBMW 5 Series 530i,BMW,2009,\"6,50,000\",\"37,518 kms\",Petrol\\nToyota Etios Liva G,Toyota,2014,\"1,60,000\",\"24,652 kms\",Petrol\\nMahindra Jeep MM 550 XDB,Mahindra,2004,\"4,24,000\",383 kms,Diesel\\nChevrolet Beat LS Diesel,Chevrolet,2016,\"2,25,000\",\"95,000 kms\",Diesel\\nChevrolet Cruze LTZ,Chevrolet,2011,\"3,50,000\",\"35,000 kms\",Diesel\\nJeep Wrangler Unlimited 4x4 Diesel,Jeep,2015,\"9,50,000\",\"3,528 kms\",Diesel\\nMaruti Suzuki Ertiga VDi,Maruti,2013,\"4,85,000\",\"52,500 kms\",Diesel\\nHyundai Verna VGT CRDi SX ABS,Hyundai,2010,\"2,05,000\",\"47,900 kms\",Diesel\\nMaruti Suzuki Omni,Maruti,2012,\"1,60,000\",\"14,000 kms\",Petrol\\nMaruti Suzuki Celerio VDi,Maruti,2018,\"3,10,000\",\"37,000 kms\",Petrol\\nTata Zest Quadrajet 1.3,Tata,2017,\"1,80,000\",\"90,000 kms\",Diesel\\nMahindra XUV500 W6,Mahindra,2013,\"5,49,900\",\"52,800 kms\",Diesel\\nTata Indigo CS eLX BS IV,Tata,2016,\"1,50,000\",\"1,04,000 kms\",Diesel\\nHyundai i10 Era,Hyundai,2011,\"1,75,000\",\"30,000 kms\",Petrol\\nTata Indigo eCS LX TDI BS III,Tata,2014,\"95,000\",\"1,95,000 kms\",Diesel\\nTata Indigo LX TDI BS III,Tata,2016,\"2,30,000\",\"1,04,000 kms\",Diesel\\nTata Indigo eCS LX CR4 BS IV,Tata,2016,\"2,30,000\",\"1,04,000 kms\",Diesel\\nTata Indigo Marina LS,Tata,2004,\"1,80,000\",\"70,000 kms\",Diesel\\nCommercial Chevrolet Sail Hatchback ca,Commercial,o...,\"2,25,000\",,\\nHyundai Xcent SX 1.2,Hyundai,2015,\"4,00,000\",\"43,000 kms\",Diesel\\nHyundai Eon Magna Plus,Hyundai,2013,\"1,85,000\",\"23,000 kms\",Petrol\\nRenault Duster 85 PS RxL Diesel,Renault,2015,\"3,85,000\",\"51,000 kms\",Diesel\\nMaruti Suzuki Alto K10 LXi CNG,Maruti,2009,\"90,000\",\"62,000 kms\",Petrol\\nTata Nano LX Special Edition,Tata,2010,\"32,000\",\"48,008 kms\",Petrol\\nCommercial Car Ta,Commercial,Zest,\"3,71,500\",,\\nRenault Duster 110 PS RxZ Diesel,Renault,2013,\"4,35,000\",\"39,000 kms\",Diesel\\nMaruti Suzuki Wagon R AX BSIV,Maruti,2010,\"2,25,000\",\"40,000 kms\",Petrol\\nMaruti Suzuki Swift,Maruti,2006,\"1,89,700\",\"48,247 kms\",Petrol\\nMaruti Suzuki Ertiga,Maruti,2012,\"3,89,700\",\"39,000 kms\",Diesel\\nMaruti Suzuki Swift VXi 1.2 ABS BS IV,Maruti,2014,\"3,65,000\",\"23,000 kms\",Petrol\\nMaruti Suzuki Alto K10 New,Maruti,2017,\"3,60,000\",\"9,400 kms\",Petrol\\nHyundai i20 Magna,Hyundai,2010,\"2,10,000\",\"50,000 kms\",Petrol\\nHyundai i10 Magna 1.2,Hyundai,2009,\"1,70,000\",\"75,000 kms\",Petrol\\ntata Indica,tata,sale,\"1,30,000\",,\\nTata Zest XE 75 PS Diesel,Tata,2017,\"3,80,000\",\"70,000 kms\",Diesel\\nMahindra Xylo E8,Mahindra,2009,\"2,95,000\",\"64,000 kms\",Diesel\\nToyota Corolla Altis GL Petrol,Toyota,2010,\"1,85,000\",\"55,000 kms\",Petrol\\nTata Manza Aqua Quadrajet,Tata,2014,\"1,60,000\",\"2,00,000 kms\",Diesel\\nMahindra KUV100 K8 D 6 STR,Mahindra,2018,Ask For Price,\"7,500 kms\",Diesel\\nUsed bt new conditions ta,Used,Zest,\"2,55,000\",,\\nRenault Kwid 1.0,Renault,2018,\"2,90,000\",\"2,137 kms\",Petrol\\nSale tata,Sale,ture,\"1,00,000\",,\\nTata Venture EX 8 STR,Tata,2013,\"1,00,000\",\"30,000 kms\",Diesel\\nMaruti Suzuki Swift Dzire Tour LXi,Maruti,2014,\"3,15,000\",\"44,000 kms\",Petrol\\nMaruti Suzuki Alto LX BSII,Maruti,2002,Ask For Price,\"56,000 kms\",Petrol\\nSkoda Octavia Classic 1.9 TDI MT,Skoda,2006,\"1,14,990\",\"65,000 kms\",Diesel\\nMaruti Suzuki Omni LPG BS IV,Maruti,2012,\"1,20,000\",\"1,60,000 kms\",LPG\\nChevrolet Beat Diesel,Chevrolet,2011,\"1,25,000\",\"56,000 kms\",Diesel\\nTata Sumo Gold EX BS IV,Tata,2012,\"2,10,000\",\"75,000 kms\",Diesel\\nTata indigo 2017 top model..,Tata,emi,\"1,70,000\",,\\nHyundai Verna 1.6 CRDI SX,Hyundai,2018,\"8,55,000\",\"42,000 kms\",Diesel\\nTata Sumo Gold EX BS IV,Tata,2012,\"2,10,000\",\"75,000 kms\",Diesel\\nMahindra Scorpio 2.6 CRDe,Mahindra,2007,\"2,60,000\",\"56,000 kms\",Diesel\\nMaruti Suzuki Zen LXi BS III,Maruti,2002,\"95,000\",\"10,544 kms\",Petrol\\nMaruti Suzuki Swift Dzire VXi 1.2 BS IV,Maruti,2011,\"2,55,000\",\"64,000 kms\",Petrol\\nMahindra Scorpio SLX 2.6 Turbo 8 Str,Mahindra,2008,\"3,00,000\",\"70,000 kms\",Diesel\\nHyundai Grand i10 Sportz 1.2 Kappa VTVT,Hyundai,2014,\"3,40,000\",\"25,000 kms\",Petrol\\nHyundai Elite i20 Sportz 1.2,Hyundai,2017,\"5,50,000\",\"15,000 kms\",Petrol\\nFord Ikon 1.6 Nxt,Ford,2003,\"60,000\",\"50,000 kms\",Petrol\\nHyundai Elite i20 Sportz 1.2,Hyundai,2015,Ask For Price,\"49,500 kms\",Petrol\\nTata indigo,Tata,car,\"1,50,000\",,\\nToyota Innova 2.5 V 7 STR,Toyota,2011,\"7,50,000\",\"1,47,000 kms\",Diesel\\nNissan Sunny XL,Nissan,2011,\"2,30,000\",\"52,000 kms\",Petrol\\nChevrolet Beat LT Diesel,Chevrolet,2012,\"1,30,000\",\"90,001 kms\",Diesel\\nMaruti Suzuki Alto 800 Lxi,Maruti,2017,\"2,70,000\",\"21,000 kms\",Petrol\\nMaruti Suzuki Swift VDi BS IV,Maruti,2012,\"2,80,000\",\"48,006 kms\",Diesel\\nMaruti Suzuki Swift VDi BS IV,Maruti,2012,\"2,80,000\",\"48,006 kms\",Diesel\\nMaruti Suzuki Swift,Maruti,2012,\"2,80,000\",\"48,006 kms\",Diesel\\nvery good condition tata bolts are av,very,able,\"2,00,000\",,\\nToyota Innova 2.0 G4,Toyota,2012,\"6,00,000\",\"80,000 kms\",Diesel\\nSale Hyundai xcent commerc,Sale,no.,Ask For Price,,\\nMaruti Suzuki Swift VDi ABS,Maruti,2010,\"1,90,000\",\"74,000 kms\",Diesel\\nHyundai Elite i20 Asta 1.2,Hyundai,2015,\"5,00,000\",\"22,000 kms\",Petrol\\nMahindra XUV500 W10,Mahindra,2016,\"10,65,000\",\"41,000 kms\",Diesel\\nVolkswagen Polo Trendline 1.5L D,Volkswagen,2015,\"3,50,000\",\"25,000 kms\",Diesel\\nToyota Etios Liva Diesel,Toyota,2012,\"3,50,000\",\"85,000 kms\",Diesel\\nMahindra TUV300 T4 Plus,Mahindra,2016,\"5,40,000\",\"29,500 kms\",Diesel\\nHyundai Elite i20 Asta 1.2,Hyundai,2015,\"4,70,000\",\"30,000 kms\",Petrol\\nHyundai Santro Xing GLS,Hyundai,2014,\"1,79,000\",\"57,000 kms\",Petrol\\nMaruti Suzuki Zen LXi BS III,Maruti,2003,\"48,000\",\"60,000 kms\",Petrol\\nMaruti Suzuki Ciaz ZXi Plus RS,Maruti,2016,\"6,50,000\",\"50,000 kms\",Petrol\\nHyundai Eon Era Plus,Hyundai,2013,\"1,90,000\",\"39,700 kms\",Petrol\\nHyundai Elantra 1.8 S,Hyundai,2012,\"5,00,000\",\"65,000 kms\",Petrol\\nMaruti Suzuki Swift VDi,Maruti,2010,\"2,70,000\",\"67,000 kms\",Diesel\\nMaruti Suzuki Zen Estilo LXI Green CNG,Maruti,2008,\"1,25,000\",\"46,000 kms\",Petrol\\nHyundai Eon Era Plus,Hyundai,2012,\"1,88,000\",\"38,000 kms\",Petrol\\nHyundai Grand i10 Magna 1.2 Kappa VTVT,Hyundai,2016,\"3,80,000\",\"27,000 kms\",Petrol\\nHyundai Verna Fluidic New,Hyundai,2011,\"3,65,000\",\"43,000 kms\",Diesel\\nFord EcoSport Trend 1.5L Ti VCT,Ford,2014,\"4,65,000\",\"47,000 kms\",Petrol\\nHyundai i20 Magna,Hyundai,2011,\"2,40,000\",\"42,000 kms\",Petrol\\nChevrolet Beat Diesel,Chevrolet,2016,\"1,79,999\",\"19,336 kms\",Diesel\\nTata Indica eV2 LS,Tata,2015,\"1,40,000\",\"60,105 kms\",Diesel\\nJaguar XF 2.2 Diesel Luxury,Jaguar,2013,\"21,90,000\",\"29,000 kms\",Diesel\\nAudi Q5 2.0 TDI quattro Premium Plus,Audi,2014,\"23,90,000\",\"34,000 kms\",Diesel\\nBMW 3 Series 320d Sedan,BMW,2011,\"10,75,000\",\"35,000 kms\",Diesel\\nMaruti Suzuki Swift ZXi 1.2 BS IV,Maruti,2015,\"4,75,000\",\"22,000 kms\",Petrol\\nBMW X1 sDrive20d,BMW,2012,\"10,25,000\",\"41,000 kms\",Diesel\\nMaruti Suzuki S Cross Sigma 1.3,Maruti,2016,\"6,15,000\",\"21,000 kms\",Diesel\\nMaruti Suzuki Ertiga LDi,Maruti,2013,\"4,75,000\",\"48,000 kms\",Diesel\\nMaruti Suzuki Alto K10 VXi AMT,Maruti,2016,\"2,70,000\",\"38,000 kms\",Petrol\\nHonda City SV,Honda,2014,\"4,75,000\",\"34,000 kms\",Diesel\\nVolkswagen Vento Comfortline Petrol,Volkswagen,2011,\"2,40,000\",\"45,933 kms\",Petrol\\nHonda City 1.5 EXi New,Honda,2005,\"1,20,000\",\"68,000 kms\",Petrol\\nAudi A4 2.0 TDI 177bhp Premium,Audi,2016,\"19,00,000\",\"44,000 kms\",Diesel\\nMahindra KUV100,Mahindra,2017,\"3,60,000\",\"35,000 kms\",Diesel\\nTata Zest XE 75 PS Diesel,Tata,2018,\"4,50,000\",\"1,02,563 kms\",Diesel\\nMahindra XUV500 W8,Mahindra,2015,\"9,00,000\",\"28,600 kms\",Diesel\\nMaruti Suzuki Swift Dzire Tour VDi,Maruti,2017,\"6,50,000\",\"41,800 kms\",Diesel\\nTata Sumo Gold LX BS IV,Tata,2014,\"2,75,000\",\"1,16,000 kms\",Diesel\\nMaruti Suzuki Swift Dzire VXi 1.2 BS IV,Maruti,2009,\"2,10,000\",\"59,000 kms\",Petrol\\nMahindra Scorpio 2.6 SLX,Mahindra,2004,\"1,75,000\",\"58,000 kms\",Diesel\\nMaruti Suzuki Omni 8 STR BS III,Maruti,2009,\"85,000\",\"45,000 kms\",Petrol\\nMitsubishi Pajero Sport Limited Edition,Mitsubishi,2015,\"14,90,000\",\"42,590 kms\",Diesel\\nRenault Duster,Renault,2014,\"8,00,000\",\"7,400 kms\",Diesel\\nVolkswagen Jetta Comfortline 1.9 TDI AT,Volkswagen,2009,\"4,50,000\",\"54,500 kms\",Diesel\\nMaruti Suzuki Ertiga Vxi,Maruti,2012,\"10,00,000\",\"2,00,000 kms\",Diesel\\nAudi A4 2.0 TDI 177bhp Premium,Audi,2013,\"15,10,000\",\"27,000 kms\",Diesel\\nVolvo S80 Summum D4,Volvo,2015,\"18,50,000\",\"42,000 kms\",Diesel\\nToyota Corolla Altis VL AT Petrol,Toyota,2014,\"7,90,000\",\"29,000 kms\",Petrol\\nMitsubishi Pajero Sport 2.5 AT,Mitsubishi,2015,\"17,25,000\",\"37,000 kms\",Diesel\\nChevrolet Beat LT Petrol,Chevrolet,2012,\"1,35,000\",\"36,000 kms\",Petrol\\nBMW X1,BMW,2011,\"10,00,000\",\"34,000 kms\",Diesel\\nDatsun Redi GO S,Datsun,2018,\"2,99,999\",\"7,000 kms\",Petrol\\nMercedes Benz C Class C 220 CDI Avantgarde,Mercedes,2009,\"12,25,000\",\"76,000 kms\",Diesel\\nMahindra Scorpio SLX,Mahindra,2004,\"1,75,000\",\"60,000 kms\",Diesel\\nVolkswagen Vento Comfortline Diesel,Volkswagen,2011,\"2,00,000\",\"95,000 kms\",Diesel\\nTata Indigo CS GLS,Tata,2017,\"2,70,000\",\"50,000 kms\",Diesel\\nFord Figo Petrol Titanium,Ford,2019,\"5,25,000\",00 kms,Petrol\\nHonda City ZX GXi,Honda,2006,\"1,80,000\",\"50,000 kms\",Petrol\\nMaruti Suzuki Wagon R Duo Lxi,Maruti,2008,\"1,40,000\",\"68,000 kms\",Petrol\\nFord EcoSport Trend 1.5L TDCi,Ford,2014,\"4,00,000\",\"16,000 kms\",Petrol\\nMaruti Suzuki Swift Dzire VDi,Maruti,2016,\"4,99,000\",\"51,000 kms\",Diesel\\nMaruti Suzuki Omni 8 STR BS III,Maruti,2009,\"85,000\",\"56,000 kms\",Petrol\\nMaruti Suzuki Zen LX BSII,Maruti,2004,\"70,000\",\"1,00,000 kms\",Petrol\\nRenault Duster RxL Petrol,Renault,2015,\"5,50,000\",\"36,000 kms\",Petrol\\nMaruti Suzuki Swift VXi 1.2 BS IV,Maruti,2014,\"3,70,000\",\"11,523 kms\",Petrol\\nMaruti Suzuki Baleno Zeta 1.2,Maruti,2018,\"6,90,000\",\"1,000 kms\",Petrol\\nHonda WR V S MT Petrol,Honda,2009,\"2,50,000\",\"60,000 kms\",Petrol\\nTata Indigo CS eLX BS IV,Tata,2016,\"1,10,000\",\"85,000 kms\",Diesel\\nRenault Duster 110 PS RxL Diesel,Renault,2013,\"4,90,000\",\"38,600 kms\",Diesel\\nMahindra Scorpio LX BS III,Mahindra,2009,\"3,20,000\",\"95,500 kms\",Diesel\\nMaruti Suzuki Zen LXi BS III,Maruti,2004,\"68,000\",\"56,000 kms\",Petrol\\nMaruti Suzuki Wagon R LXi BS III,Maruti,2014,\"1,30,000\",\"37,458 kms\",Petrol\\nMaruti Suzuki SX4 Celebration Diesel,Maruti,2016,\"9,70,000\",\"85,960 kms\",Diesel\\nAudi A3 Cabriolet 40 TFSI,Audi,2015,\"31,00,000\",\"12,516 kms\",Petrol\\nHyundai Eon D Lite Plus,Hyundai,2018,\"2,80,000\",\"35,000 kms\",Petrol\\nMaruti Suzuki Zen Estilo LXI Green CNG,Maruti,2009,\"1,25,000\",00 kms,Petrol\\nMahindra Scorpio SLX,Mahindra,2008,\"2,85,000\",\"80,000 kms\",Diesel\\nI want to sell my commercial car due t,I,o...,\"4,75,000\",,\\nHyundai Santro AE GLS Audio,Hyundai,2011,\"1,65,000\",\"45,000 kms\",Petrol\\ni want sale my car.no emi....uber atta,i,d...,\"3,20,000\",,\\nMaruti Suzuki Swift Dzire Tour VDi,Maruti,2009,\"2,50,000\",\"51,000 kms\",Diesel\\nMahindra Scorpio S4,Mahindra,2015,\"8,65,000\",\"30,000 kms\",Diesel\\nTata ZEST 6 month old,Tata,car,\"3,70,000\",,\\nMahindra Xylo D2 BS IV,Mahindra,2011,\"3,90,000\",\"48,000 kms\",Diesel\\nHyundai Santro,Hyundai,2003,\"60,000\",\"51,000 kms\",Petrol\\nChevrolet Beat LT Diesel,Chevrolet,2015,\"2,15,000\",\"90,000 kms\",Diesel\\nMaruti Suzuki Swift Dzire VDi,Maruti,2015,\"4,75,000\",\"43,000 kms\",Diesel\\nMahindra XUV500 W8,Mahindra,2015,\"8,99,000\",\"53,000 kms\",Diesel\\nToyota Fortuner 3.0 4x4 MT,Toyota,2013,\"14,99,000\",\"97,000 kms\",Diesel\\nMaruti Suzuki Alto K10 VXi,Maruti,2013,\"2,40,000\",\"20,000 kms\",Petrol\\nHyundai Getz GLE,Hyundai,2007,\"99,000\",\"55,000 kms\",Petrol\\nMaruti Suzuki Swift Dzire Tour LDi,Maruti,2014,\"2,60,000\",\"1,20,000 kms\",Diesel\\nHyundai Creta 1.6 SX,Hyundai,2019,\"12,00,000\",0 kms,Petrol\\nHyundai Santro Xing XL AT eRLX Euro III,Hyundai,2007,\"1,15,000\",\"46,000 kms\",Petrol\\nHyundai Santro Xing XL eRLX Euro III,Hyundai,2009,\"88,000\",\"43,200 kms\",Petrol\\nMahindra Xylo D2 BS IV,Mahindra,2011,\"3,90,000\",\"56,000 kms\",Diesel\\nHyundai Santro Xing XL eRLX Euro III,Hyundai,2007,\"1,35,000\",\"42,000 kms\",Petrol\\nTata Indica V2 DLS BS III,Tata,2009,\"90,000\",\"30,600 kms\",Diesel\\nHyundai i10 Sportz 1.2,Hyundai,2011,\"2,20,000\",\"38,000 kms\",Petrol\\nHyundai Grand i10 Magna 1.2 Kappa VTVT,Hyundai,2017,\"4,24,999\",\"2,550 kms\",Petrol\\nHyundai Santro Xing XL AT eRLX Euro III,Hyundai,2007,\"1,35,000\",\"47,000 kms\",Petrol\\nHonda City 1.5 E MT,Honda,2005,\"95,000\",\"41,000 kms\",Petrol\\nNissan Micra XL,Nissan,2017,\"4,30,000\",\"62,500 kms\",Diesel\\nHonda City 1.5 S Inspire,Honda,2005,\"1,15,000\",\"68,000 kms\",Petrol\\nMaruti Suzuki Alto 800 Lxi,Maruti,2015,\"2,15,000\",\"50,000 kms\",Petrol\\nMaruti Suzuki Wagon R LX BS III,Maruti,2004,\"53,000\",\"69,000 kms\",Petrol\\nMaruti Suzuki Ertiga VDi,Maruti,2012,\"5,00,000\",\"48,000 kms\",Diesel\\nTata Indica eV2 eXeta eGLX,Tata,2012,\"85,000\",\"55,000 kms\",Diesel\\nMaruti Suzuki Omni E 8 STR BS IV,Maruti,2013,\"1,65,000\",\"25,000 kms\",Petrol\\nHyundai Eon Era Plus,Hyundai,2014,\"2,00,000\",\"28,400 kms\",Petrol\\nHyundai Eon,Hyundai,2014,\"2,00,000\",\"28,000 kms\",Petrol\\nMaruti Suzuki Swift LDi,Maruti,2015,\"4,25,000\",\"42,000 kms\",Diesel\\nMARUTI SUZUKI ERTIGA F,MARUTI,SALE,\"6,50,000\",,\\nHyundai Verna 1.6 CRDI SX Plus AT,Hyundai,2012,\"6,00,000\",\"29,000 kms\",Diesel\\nChevrolet Tavera LS B3 10 Seats BSII,Chevrolet,2005,\"1,30,000\",\"68,485 kms\",Diesel\\nTata Tiago Revotron XM,Tata,2018,\"4,30,000\",\"3,500 kms\",Petrol\\nTata Tiago Revotorq XZ,Tata,2019,\"5,68,500\",0 kms,Petrol\\nTata Nexon,Tata,2019,Ask For Price,0 kms,Petrol\\nTata,Tata,digo,Ask For Price,,\\nMaruti Suzuki Zen LXi BS III,Maruti,2006,\"71,000\",\"32,000 kms\",Petrol\\nMahindra KUV100 K8 D 6 STR,Mahindra,2018,\"5,60,000\",\"8,000 kms\",Diesel\\nFord EcoSport Titanium 1.5 TDCi,Ford,2014,\"5,90,000\",\"34,000 kms\",Diesel\\nHindustan Motors Ambassador Classic Mark 4 \\xe2\\x80\\x93 Befo,Hindustan,1995,\"7,50,000\",\"37,000 kms\",Petrol\\nFord Fusion 1.4 TDCi Diesel,Ford,2007,\"1,25,000\",\"85,455 kms\",Diesel\\nHyundai Santro Xing XL AT eRLX Euro III,Hyundai,2007,\"1,35,000\",\"46,000 kms\",Petrol\\nHyundai Santro,Hyundai,2002,\"60,000\",\"47,000 kms\",Petrol\\nFiat Linea Emotion 1.4 L T Jet Petrol,Fiat,2009,\"1,20,000\",\"64,000 kms\",Petrol\\nFord Ikon 1.3 Flair Josh 100,Ford,2008,\"95,000\",\"46,000 kms\",Petrol\\nMaruti Suzuki Omni E 8 STR BS IV,Maruti,2017,\"2,40,000\",\"8,000 kms\",Petrol\\nTata Indica V2 LS,Tata,2012,\"1,15,000\",\"64,000 kms\",Diesel\\nMahindra Scorpio S4,Mahindra,2015,\"7,95,000\",\"63,000 kms\",Diesel\\nHyundai Santro Xing XL eRLX Euro III,Hyundai,2007,\"55,000\",\"65,000 kms\",Petrol\\nMahindra Xylo D2,Mahindra,2009,\"3,00,000\",\"62,000 kms\",Diesel\\nHyundai Grand i10 Asta 1.2 Kappa VTVT,Hyundai,2014,\"3,20,000\",\"41,000 kms\",Petrol\\nMaruti Suzuki Alto 800 Lxi,Maruti,2015,\"2,65,000\",\"14,000 kms\",Petrol\\nToyota Corolla,Toyota,2006,\"1,60,000\",\"40,000 kms\",Petrol\\nHyundai Eon Magna,Hyundai,2017,\"3,00,000\",\"1,600 kms\",Petrol\\nTata Sumo Grande MKII GX,Tata,2010,\"1,30,000\",\"90,000 kms\",Diesel\\nMaruti Suzuki Swift VDi,Maruti,2011,\"2,50,000\",\"58,000 kms\",Diesel\\nVolkswagen Polo Highline1.2L P,Volkswagen,2013,\"3,80,000\",\"27,000 kms\",Petrol\\nMaruti Suzuki Alto 800 Lx,Maruti,2003,\"42,000\",\"60,000 kms\",Petrol\\nTata Tiago Revotron XZ,Tata,2017,\"4,00,000\",\"31,000 kms\",Petrol\\nMaruti Suzuki Swift LDi,Maruti,2009,\"1,20,000\",\"90,000 kms\",Diesel\\nMaruti Suzuki Swift VDi,Maruti,2009,\"1,20,000\",\"90,000 kms\",Diesel\\nTata Indigo eCS,Tata,2016,\"1,30,000\",\"1,50,000 kms\",Diesel\\nChevrolet Beat LS Diesel,Chevrolet,2014,\"1,89,000\",\"31,000 kms\",Diesel\\n2012 Tata Sumo Gold f,2012,sell,\"2,50,000\",,\\nMahindra Xylo E8 BS IV,Mahindra,2011,\"3,65,000\",\"43,000 kms\",Diesel\\nHyundai Eon D Lite Plus,Hyundai,2013,\"1,70,000\",\"20,000 kms\",Petrol\\nWell mentained Tata Sumo,Well,d Ex,\"3,80,000\",,\\nall paper updated tata indica v2 and u,all,n...,\"1,45,000\",,\\nMaruti Ertiga showroom condition with,Maruti,e...,\"4,80,000\",,\\n7 SEATER MAHINDRA BOLERO IN VERY GOOD,7,D...,Ask For Price,,\\n9 SEATER MAHINDRA BOL,9,\", Ac\",Ask For Price,,\\nscratch less Tata I,scratch,go .,\"1,40,000\",,\\nMaruti Suzuki swift dzire for sale in,Maruti,d...,\"3,60,000\",,\\nCommercial Chevrolet beat for sale in,Commercial,k...,\"1,80,000\",,\\nurgent sell my Mahindra qu,urgent,o c4,\"3,50,000\",,\\nTata Sumo Gold FX BSIII,Tata,2013,\"2,15,000\",\"1,00,000 kms\",Petrol\\nsell my car Maruti Suzuki Swif,sell,zire,\"3,00,000\",,\\nMaruti Suzuki Swift Dzire good car fo,Maruti,o...,\"3,10,000\",,\\nHyunda,Hyundai,cent,Ask For Price,,\\nCommercial Maruti Suzuki Alto Lxi 800,Commercial,...,Ask For Price,,\\nurgent sale Ta,urgent,Sumo,\"2,20,000\",,\\nMaruti Suzuki Alto vxi t,Maruti,cab,\"95,000\",,\\ntata,tata,t xe,Ask For Price,,\\nTATA INDI,TATA,EV2,\"1,10,000\",,\\nTata Nano,Tata,2013,\"60,000\",\"7,000 kms\",Petrol\\nHyundai Elite i20,Hyundai,2017,\"5,99,999\",\"31,000 kms\",Petrol\\nHyundai i10 Magna 1.2 Kappa2,Hyundai,2009,\"4,00,000\",\"33,000 kms\",Petrol\\nHyundai Creta,Hyundai,2016,\"9,00,000\",\"60,000 kms\",Diesel\\nVolkswagen Polo,Volkswagen,2013,\"2,99,999\",\"48,000 kms\",Diesel\\nMaruti Suzuki Dzire,Maruti,2014,\"3,74,999\",\"33,000 kms\",Petrol\\nTata Bolt XM Petrol,Tata,2015,\"6,00,000\",\"15,000 kms\",Petrol\\nMaruti Suzuki Alto 800 Lx,Maruti,2005,\"70,000\",\"47,000 kms\",Petrol\\nMaruti Suzuki Alto,Maruti,2005,\"1,00,000\",\"40,000 kms\",Petrol\\nHyundai Venue,Hyundai,2019,Ask For Price,\"7,000 kms\",Diesel\\nMaruti Suzuki Ritz,Maruti,2010,\"1,50,000\",\"38,000 kms\",Diesel\\nMaruti Suzuki Alto 800 Lxi,Maruti,2017,\"2,25,000\",\"12,500 kms\",Petrol\\nMaruti Suzuki Dzire,Maruti,2009,\"2,10,000\",\"42,000 kms\",Petrol\\nRenault Lodgy,Renault,2016,Ask For Price,\"20,000 kms\",Diesel\\nHyundai i20 Asta,Hyundai,2014,\"4,25,000\",\"31,000 kms\",Petrol\\nMaruti Suzuki Swift Select Variant,Maruti,2008,\"1,62,000\",\"60,000 kms\",Diesel\\nTata Indica V2 DLX BS III,Tata,2005,\"60,000\",\"80,000 kms\",Diesel\\nMahindra Scorpio VLX 2.2 mHawk Airbag BSIV,Mahindra,2014,\"6,50,000\",\"77,000 kms\",Diesel\\nToyota Innova 2.5 E 8 STR,Toyota,2012,\"7,50,000\",\"75,000 kms\",Diesel\\nMahindra Xylo E8,Mahindra,2010,\"3,75,000\",\"40,000 kms\",Diesel\\nHyundai i20 Magna 1.2,Hyundai,2011,\"2,30,000\",\"47,000 kms\",Petrol\\nMaruti Suzuki Omni,Maruti,2000,\"35,999\",\"60,000 kms\",Petrol\\nMahindra KUV100,Mahindra,2016,\"3,80,000\",\"26,500 kms\",Petrol\\nMahindra KUV100 K8 6 STR,Mahindra,2019,\"5,60,000\",\"2,875 kms\",Petrol\\nDatsun Go Plus,Datsun,2016,\"2,85,000\",\"13,900 kms\",Petrol\\nFord Endeavor 4x4 Thunder Plus,Ford,2019,\"29,00,000\",\"9,000 kms\",Diesel\\nTata Indica V2,Tata,2005,\"39,999\",\"80,000 kms\",Diesel\\nHyundai Santro Xing GL,Hyundai,2006,\"85,000\",\"60,000 kms\",Petrol\\nMaruti Suzuki Wagon R 1.0 VXi,Maruti,2016,\"3,95,000\",\"20,000 kms\",Petrol\\nMaruti Suzuki Swift Select Variant,Maruti,2008,\"1,75,000\",\"58,000 kms\",Diesel\\nMaruti Suzuki Alto 800 Lx,Maruti,2019,\"4,00,000\",\"1,500 kms\",Petrol\\nToyota Innova 2.5 Z Diesel 7 Seater,Toyota,2011,\"7,50,000\",\"75,000 kms\",Diesel\\nAny type car avaiabel hare...comercica,Any,r...,\"1,70,000\",,\\nMaruti Suzuki Alto 800,Maruti,2016,\"2,50,000\",\"2,450 kms\",Petrol\\nMaruti Suzuki Alto AX,Maruti,2019,\"4,25,000\",\"1,625 kms\",Petrol\\nMaruti Suzuki Alto 800 Lx,Maruti,2019,Ask For Price,\"1,500 kms\",Petrol\\nVolkswagen Polo Highline1.2L P,Volkswagen,2017,\"5,25,000\",\"45,000 kms\",Petrol\\nMahindra Logan,Mahindra,2009,\"1,30,000\",\"65,000 kms\",Diesel\\nMaruti Suzuki 800 Std BS III,Maruti,2000,\"30,000\",\"33,400 kms\",Petrol\\nMahindra Scorpio,Mahindra,2011,\"4,75,000\",\"60,123 kms\",Diesel\\nChevrolet Sail 1.2 LS,Chevrolet,2013,\"3,00,000\",\"28,000 kms\",Petrol\\nVolkswagen Vento Highline Plus 1.5 Diesel,Volkswagen,2015,Ask For Price,\"38,900 kms\",Diesel\\nHyundai Santro AE GLS Audio,Hyundai,2003,\"60,000\",\"70,000 kms\",Petrol\\nMaruti Suzuki Wagon R VXi Minor,Maruti,2006,\"1,00,000\",\"7,000 kms\",Petrol\\nHyundai Eon,Hyundai,2018,\"2,60,000\",\"25,000 kms\",Petrol\\nTata Manza,Tata,2015,\"1,00,000\",\"1,00,000 kms\",Diesel\\nToyota Innova 2.0 G1 Petrol 8seater,Toyota,2019,Ask For Price,\"4,000 kms\",Petrol\\nToyota Etios G,Toyota,2013,\"2,65,000\",\"42,000 kms\",Petrol\\nHyundai Getz Prime 1.3 GLX,Hyundai,2009,\"1,15,000\",\"20,000 kms\",Petrol\\nToyota Qualis,Toyota,2003,\"1,80,000\",\"1,00,000 kms\",Diesel\\nHyundai Santro Xing,Hyundai,2004,\"45,000\",\"1,37,495 kms\",Petrol\\nTata Indica eV2 LS,Tata,2016,\"50,500\",\"91,200 kms\",Diesel\\nHonda City 1.5 S MT,Honda,2009,\"2,70,000\",\"55,000 kms\",Petrol\\nTata Zest XE 75 PS Diesel,Tata,2017,\"2,90,000\",\"1,20,000 kms\",Diesel\\nMahindra Quanto C4,Mahindra,2013,\"3,25,000\",\"63,000 kms\",Diesel\\nTata Indigo eCS LX CR4 BS IV,Tata,2016,\"1,60,000\",\"1,04,000 kms\",Diesel\\nMaruti Suzuki Swift Dzire,Maruti,2016,\"3,50,000\",\"1,46,000 kms\",Diesel\\nHyundai Elite i20,Hyundai,2011,\"2,90,000\",\"40,000 kms\",Petrol\\nHyundai i20 Select Variant,Hyundai,2011,\"2,90,000\",\"40,000 kms\",Petrol\\nChevrolet Tavera Neo,Chevrolet,2007,\"4,65,000\",\"1,00,800 kms\",Diesel\\nMaruti Suzuki Dzire,Maruti,2016,\"3,25,000\",\"1,50,000 kms\",Diesel\\nHyundai Elite i20,Hyundai,2018,\"5,10,000\",\"2,100 kms\",Petrol\\nHonda City VX Petrol,Honda,2016,\"8,60,000\",\"95,000 kms\",Petrol\\nMaruti Suzuki Dzire,Maruti,2016,\"4,50,000\",\"2,500 kms\",Diesel\\nHyundai Getz,Hyundai,2006,\"1,25,000\",\"80,000 kms\",Petrol\\nMercedes Benz C Class 200 K MT,Mercedes,2006,\"5,00,001\",\"15,000 kms\",Petrol\\nMaruti Suzuki Alto LXi BS III,Maruti,2005,\"95,000\",\"65,000 kms\",Petrol\\nMaruti Suzuki Swift Dzire Tour VDi,Maruti,2009,\"2,50,000\",\"51,000 kms\",Diesel\\nSkoda Fabia,Skoda,2009,\"1,10,000\",\"45,000 kms\",Petrol\\nMaruti Suzuki Alto 800 Select Variant,Maruti,2015,Ask For Price,\"70,000 kms\",Petrol\\nMaruti Suzuki Ritz VXI ABS,Maruti,2011,\"2,70,000\",\"50,000 kms\",Petrol\\ntata zest 2017 f,tata,sale,\"4,50,000\",,\\nTata Indica V2 DLE BS III,Tata,2009,\"1,10,000\",\"30,000 kms\",Diesel\\nToyota Corolla Altis,Toyota,2009,\"3,00,000\",\"1,32,000 kms\",Petrol\\nTa,Tara,zest,\"3,10,000\",,\\nTata Zest XM Diesel,Tata,2018,\"2,60,000\",\"27,000 kms\",Diesel\\nMahindra Quanto C8,Mahindra,2013,\"3,90,000\",\"40,000 kms\",Diesel\\nHonda Amaze 1.2 E i VTEC,Honda,2014,\"1,80,000\",Petrol,\\nChevrolet Sail 1.2 LT ABS,Chevrolet,2014,\"1,60,000\",Petrol,'}"
            ]
          },
          "metadata": {
            "tags": []
          },
          "execution_count": 2
        }
      ]
    },
    {
      "cell_type": "code",
      "metadata": {
        "id": "XPB7Oh_HZYXF"
      },
      "source": [
        "df=pd.read_csv('quikr_car.csv')"
      ],
      "execution_count": 532,
      "outputs": []
    },
    {
      "cell_type": "code",
      "metadata": {
        "colab": {
          "base_uri": "https://localhost:8080/",
          "height": 204
        },
        "id": "Hr19nmgBZjgt",
        "outputId": "c6e5c3bb-dea3-4ffb-e607-0f103a794adf"
      },
      "source": [
        "df.head()"
      ],
      "execution_count": 533,
      "outputs": [
        {
          "output_type": "execute_result",
          "data": {
            "text/html": [
              "<div>\n",
              "<style scoped>\n",
              "    .dataframe tbody tr th:only-of-type {\n",
              "        vertical-align: middle;\n",
              "    }\n",
              "\n",
              "    .dataframe tbody tr th {\n",
              "        vertical-align: top;\n",
              "    }\n",
              "\n",
              "    .dataframe thead th {\n",
              "        text-align: right;\n",
              "    }\n",
              "</style>\n",
              "<table border=\"1\" class=\"dataframe\">\n",
              "  <thead>\n",
              "    <tr style=\"text-align: right;\">\n",
              "      <th></th>\n",
              "      <th>name</th>\n",
              "      <th>company</th>\n",
              "      <th>year</th>\n",
              "      <th>Price</th>\n",
              "      <th>kms_driven</th>\n",
              "      <th>fuel_type</th>\n",
              "    </tr>\n",
              "  </thead>\n",
              "  <tbody>\n",
              "    <tr>\n",
              "      <th>0</th>\n",
              "      <td>Hyundai Santro Xing XO eRLX Euro III</td>\n",
              "      <td>Hyundai</td>\n",
              "      <td>2007</td>\n",
              "      <td>80,000</td>\n",
              "      <td>45,000 kms</td>\n",
              "      <td>Petrol</td>\n",
              "    </tr>\n",
              "    <tr>\n",
              "      <th>1</th>\n",
              "      <td>Mahindra Jeep CL550 MDI</td>\n",
              "      <td>Mahindra</td>\n",
              "      <td>2006</td>\n",
              "      <td>4,25,000</td>\n",
              "      <td>40 kms</td>\n",
              "      <td>Diesel</td>\n",
              "    </tr>\n",
              "    <tr>\n",
              "      <th>2</th>\n",
              "      <td>Maruti Suzuki Alto 800 Vxi</td>\n",
              "      <td>Maruti</td>\n",
              "      <td>2018</td>\n",
              "      <td>Ask For Price</td>\n",
              "      <td>22,000 kms</td>\n",
              "      <td>Petrol</td>\n",
              "    </tr>\n",
              "    <tr>\n",
              "      <th>3</th>\n",
              "      <td>Hyundai Grand i10 Magna 1.2 Kappa VTVT</td>\n",
              "      <td>Hyundai</td>\n",
              "      <td>2014</td>\n",
              "      <td>3,25,000</td>\n",
              "      <td>28,000 kms</td>\n",
              "      <td>Petrol</td>\n",
              "    </tr>\n",
              "    <tr>\n",
              "      <th>4</th>\n",
              "      <td>Ford EcoSport Titanium 1.5L TDCi</td>\n",
              "      <td>Ford</td>\n",
              "      <td>2014</td>\n",
              "      <td>5,75,000</td>\n",
              "      <td>36,000 kms</td>\n",
              "      <td>Diesel</td>\n",
              "    </tr>\n",
              "  </tbody>\n",
              "</table>\n",
              "</div>"
            ],
            "text/plain": [
              "                                     name   company  ...  kms_driven fuel_type\n",
              "0    Hyundai Santro Xing XO eRLX Euro III   Hyundai  ...  45,000 kms    Petrol\n",
              "1                 Mahindra Jeep CL550 MDI  Mahindra  ...      40 kms    Diesel\n",
              "2              Maruti Suzuki Alto 800 Vxi    Maruti  ...  22,000 kms    Petrol\n",
              "3  Hyundai Grand i10 Magna 1.2 Kappa VTVT   Hyundai  ...  28,000 kms    Petrol\n",
              "4        Ford EcoSport Titanium 1.5L TDCi      Ford  ...  36,000 kms    Diesel\n",
              "\n",
              "[5 rows x 6 columns]"
            ]
          },
          "metadata": {
            "tags": []
          },
          "execution_count": 533
        }
      ]
    },
    {
      "cell_type": "code",
      "metadata": {
        "colab": {
          "base_uri": "https://localhost:8080/"
        },
        "id": "GZdD3Ro7aB0b",
        "outputId": "75e5e895-3a67-4181-fc50-77901adb5385"
      },
      "source": [
        "df.shape"
      ],
      "execution_count": null,
      "outputs": [
        {
          "output_type": "execute_result",
          "data": {
            "text/plain": [
              "(892, 6)"
            ]
          },
          "metadata": {
            "tags": []
          },
          "execution_count": 474
        }
      ]
    },
    {
      "cell_type": "code",
      "metadata": {
        "colab": {
          "base_uri": "https://localhost:8080/"
        },
        "id": "hnngKsVvZkeT",
        "outputId": "43f7e554-46ee-4f06-da3c-f385e5f9cdfd"
      },
      "source": [
        "df.info()"
      ],
      "execution_count": null,
      "outputs": [
        {
          "output_type": "stream",
          "text": [
            "<class 'pandas.core.frame.DataFrame'>\n",
            "RangeIndex: 892 entries, 0 to 891\n",
            "Data columns (total 6 columns):\n",
            " #   Column      Non-Null Count  Dtype \n",
            "---  ------      --------------  ----- \n",
            " 0   name        892 non-null    object\n",
            " 1   company     892 non-null    object\n",
            " 2   year        892 non-null    object\n",
            " 3   Price       892 non-null    object\n",
            " 4   kms_driven  840 non-null    object\n",
            " 5   fuel_type   837 non-null    object\n",
            "dtypes: object(6)\n",
            "memory usage: 41.9+ KB\n"
          ],
          "name": "stdout"
        }
      ]
    },
    {
      "cell_type": "code",
      "metadata": {
        "id": "98zGRVOyZmcZ"
      },
      "source": [
        "## 6 columns are there : all are in object. \n",
        "# - name : no null values\n",
        "# - company : no null values\n",
        "# - year : no null values | *convert it into numeric\n",
        "# - Price : no null values | *convert it into numeric\n",
        "# - kms_driven : *null values | *convert it into numeric\n",
        "# - fuel_type : *null values"
      ],
      "execution_count": null,
      "outputs": []
    },
    {
      "cell_type": "code",
      "metadata": {
        "id": "Bsq5sssBbN-3"
      },
      "source": [
        "# name column : we will take only first 3 words of name."
      ],
      "execution_count": null,
      "outputs": []
    },
    {
      "cell_type": "code",
      "metadata": {
        "colab": {
          "base_uri": "https://localhost:8080/"
        },
        "id": "OEsl0NN3bg-T",
        "outputId": "216e9fd4-41fb-4888-aac1-8150975c7606"
      },
      "source": [
        "df.columns"
      ],
      "execution_count": null,
      "outputs": [
        {
          "output_type": "execute_result",
          "data": {
            "text/plain": [
              "Index(['name', 'company', 'year', 'Price', 'kms_driven', 'fuel_type'], dtype='object')"
            ]
          },
          "metadata": {
            "tags": []
          },
          "execution_count": 478
        }
      ]
    },
    {
      "cell_type": "code",
      "metadata": {
        "id": "vRfdE51abi49"
      },
      "source": [
        "df.name=df.name.str.split(' ').str[:3].str.join(' ')"
      ],
      "execution_count": null,
      "outputs": []
    },
    {
      "cell_type": "code",
      "metadata": {
        "colab": {
          "base_uri": "https://localhost:8080/",
          "height": 204
        },
        "id": "ypGMjdPvblEj",
        "outputId": "685ecb36-6f17-4ab3-9526-d8c7d68738f6"
      },
      "source": [
        "df.head()"
      ],
      "execution_count": null,
      "outputs": [
        {
          "output_type": "execute_result",
          "data": {
            "text/html": [
              "<div>\n",
              "<style scoped>\n",
              "    .dataframe tbody tr th:only-of-type {\n",
              "        vertical-align: middle;\n",
              "    }\n",
              "\n",
              "    .dataframe tbody tr th {\n",
              "        vertical-align: top;\n",
              "    }\n",
              "\n",
              "    .dataframe thead th {\n",
              "        text-align: right;\n",
              "    }\n",
              "</style>\n",
              "<table border=\"1\" class=\"dataframe\">\n",
              "  <thead>\n",
              "    <tr style=\"text-align: right;\">\n",
              "      <th></th>\n",
              "      <th>name</th>\n",
              "      <th>company</th>\n",
              "      <th>year</th>\n",
              "      <th>Price</th>\n",
              "      <th>kms_driven</th>\n",
              "      <th>fuel_type</th>\n",
              "    </tr>\n",
              "  </thead>\n",
              "  <tbody>\n",
              "    <tr>\n",
              "      <th>0</th>\n",
              "      <td>Hyundai Santro Xing</td>\n",
              "      <td>Hyundai</td>\n",
              "      <td>2007</td>\n",
              "      <td>80,000</td>\n",
              "      <td>45,000 kms</td>\n",
              "      <td>Petrol</td>\n",
              "    </tr>\n",
              "    <tr>\n",
              "      <th>1</th>\n",
              "      <td>Mahindra Jeep CL550</td>\n",
              "      <td>Mahindra</td>\n",
              "      <td>2006</td>\n",
              "      <td>4,25,000</td>\n",
              "      <td>40 kms</td>\n",
              "      <td>Diesel</td>\n",
              "    </tr>\n",
              "    <tr>\n",
              "      <th>2</th>\n",
              "      <td>Maruti Suzuki Alto</td>\n",
              "      <td>Maruti</td>\n",
              "      <td>2018</td>\n",
              "      <td>Ask For Price</td>\n",
              "      <td>22,000 kms</td>\n",
              "      <td>Petrol</td>\n",
              "    </tr>\n",
              "    <tr>\n",
              "      <th>3</th>\n",
              "      <td>Hyundai Grand i10</td>\n",
              "      <td>Hyundai</td>\n",
              "      <td>2014</td>\n",
              "      <td>3,25,000</td>\n",
              "      <td>28,000 kms</td>\n",
              "      <td>Petrol</td>\n",
              "    </tr>\n",
              "    <tr>\n",
              "      <th>4</th>\n",
              "      <td>Ford EcoSport Titanium</td>\n",
              "      <td>Ford</td>\n",
              "      <td>2014</td>\n",
              "      <td>5,75,000</td>\n",
              "      <td>36,000 kms</td>\n",
              "      <td>Diesel</td>\n",
              "    </tr>\n",
              "  </tbody>\n",
              "</table>\n",
              "</div>"
            ],
            "text/plain": [
              "                     name   company  year          Price  kms_driven fuel_type\n",
              "0     Hyundai Santro Xing   Hyundai  2007         80,000  45,000 kms    Petrol\n",
              "1     Mahindra Jeep CL550  Mahindra  2006       4,25,000      40 kms    Diesel\n",
              "2      Maruti Suzuki Alto    Maruti  2018  Ask For Price  22,000 kms    Petrol\n",
              "3       Hyundai Grand i10   Hyundai  2014       3,25,000  28,000 kms    Petrol\n",
              "4  Ford EcoSport Titanium      Ford  2014       5,75,000  36,000 kms    Diesel"
            ]
          },
          "metadata": {
            "tags": []
          },
          "execution_count": 480
        }
      ]
    },
    {
      "cell_type": "code",
      "metadata": {
        "colab": {
          "base_uri": "https://localhost:8080/"
        },
        "id": "dBiMorcvd9dd",
        "outputId": "21b9e9f1-7fef-4b18-c75d-f7d7eb9edcb6"
      },
      "source": [
        "df.company.unique()"
      ],
      "execution_count": null,
      "outputs": [
        {
          "output_type": "execute_result",
          "data": {
            "text/plain": [
              "array(['Hyundai', 'Mahindra', 'Maruti', 'Ford', 'Skoda', 'Audi', 'Toyota',\n",
              "       'Renault', 'Honda', 'Datsun', 'Mitsubishi', 'Tata', 'Volkswagen',\n",
              "       'I', 'Chevrolet', 'Mini', 'BMW', 'Nissan', 'Hindustan', 'Fiat',\n",
              "       'Commercial', 'MARUTI', 'Force', 'Mercedes', 'Land', 'Yamaha',\n",
              "       'selling', 'URJENT', 'Swift', 'Used', 'Jaguar', 'Jeep', 'tata',\n",
              "       'Sale', 'very', 'Volvo', 'i', '2012', 'Well', 'all', '7', '9',\n",
              "       'scratch', 'urgent', 'sell', 'TATA', 'Any', 'Tara'], dtype=object)"
            ]
          },
          "metadata": {
            "tags": []
          },
          "execution_count": 481
        }
      ]
    },
    {
      "cell_type": "code",
      "metadata": {
        "id": "m75ZGGfWfWOz"
      },
      "source": [
        "#There are some numeric values in company column. lets remove them."
      ],
      "execution_count": null,
      "outputs": []
    },
    {
      "cell_type": "code",
      "metadata": {
        "id": "H8krIs8VetlS"
      },
      "source": [
        "df=df[~df.company.str.isnumeric()]"
      ],
      "execution_count": null,
      "outputs": []
    },
    {
      "cell_type": "code",
      "metadata": {
        "colab": {
          "base_uri": "https://localhost:8080/"
        },
        "id": "ymAED-MCfBqU",
        "outputId": "edd75a97-a962-4cfc-e334-b2dab82801ab"
      },
      "source": [
        "df.year.unique()"
      ],
      "execution_count": null,
      "outputs": [
        {
          "output_type": "execute_result",
          "data": {
            "text/plain": [
              "array(['2007', '2006', '2018', '2014', '2015', '2012', '2013', '2016',\n",
              "       '2010', '2017', '2008', '2011', '2019', '2009', '2005', '2000',\n",
              "       '...', '150k', 'TOUR', '2003', 'r 15', '2004', 'Zest', '/-Rs',\n",
              "       'sale', '1995', 'ara)', '2002', 'SELL', '2001', 'tion', 'odel',\n",
              "       '2 bs', 'arry', 'Eon', 'o...', 'ture', 'emi', 'car', 'able', 'no.',\n",
              "       'd...', 'SALE', 'digo', 'd Ex', 'n...', 'e...', 'go .', 'k...',\n",
              "       'o c4', 'zire', 'cent', 'Sumo', 'cab', 't xe', 'EV2', 'r...',\n",
              "       'zest'], dtype=object)"
            ]
          },
          "metadata": {
            "tags": []
          },
          "execution_count": 484
        }
      ]
    },
    {
      "cell_type": "code",
      "metadata": {
        "id": "yP2k4Ft3fidj"
      },
      "source": [
        "#Lets remove non numeric values from year column and also convert column to int from object."
      ],
      "execution_count": null,
      "outputs": []
    },
    {
      "cell_type": "code",
      "metadata": {
        "id": "aHFL6d_Wg8hn"
      },
      "source": [
        "df=df[df.year.str.isnumeric()]"
      ],
      "execution_count": null,
      "outputs": []
    },
    {
      "cell_type": "code",
      "metadata": {
        "id": "D6JJpxHNf6WJ"
      },
      "source": [
        "df.year=df.year.astype(int)"
      ],
      "execution_count": null,
      "outputs": []
    },
    {
      "cell_type": "code",
      "metadata": {
        "colab": {
          "base_uri": "https://localhost:8080/"
        },
        "id": "1aMjbIHRgWBX",
        "outputId": "7bea6cf1-04d3-4d4f-e97c-bed8319b1b8a"
      },
      "source": [
        "df.info()"
      ],
      "execution_count": null,
      "outputs": [
        {
          "output_type": "stream",
          "text": [
            "<class 'pandas.core.frame.DataFrame'>\n",
            "Int64Index: 842 entries, 0 to 891\n",
            "Data columns (total 6 columns):\n",
            " #   Column      Non-Null Count  Dtype \n",
            "---  ------      --------------  ----- \n",
            " 0   name        842 non-null    object\n",
            " 1   company     842 non-null    object\n",
            " 2   year        842 non-null    int64 \n",
            " 3   Price       842 non-null    object\n",
            " 4   kms_driven  840 non-null    object\n",
            " 5   fuel_type   837 non-null    object\n",
            "dtypes: int64(1), object(5)\n",
            "memory usage: 46.0+ KB\n"
          ],
          "name": "stdout"
        }
      ]
    },
    {
      "cell_type": "code",
      "metadata": {
        "id": "dTrejt5khY7r"
      },
      "source": [
        "#Lets remove non numeric values and ',' from price column and convert price column to int."
      ],
      "execution_count": null,
      "outputs": []
    },
    {
      "cell_type": "code",
      "metadata": {
        "id": "u4kD_coXh0ng"
      },
      "source": [
        "df.Price=df.Price.str.replace(',','')"
      ],
      "execution_count": null,
      "outputs": []
    },
    {
      "cell_type": "code",
      "metadata": {
        "id": "x1-6rlGMiRrs"
      },
      "source": [
        "df=df[df.Price.str.isnumeric()]"
      ],
      "execution_count": null,
      "outputs": []
    },
    {
      "cell_type": "code",
      "metadata": {
        "id": "cVxXoShMi0aY"
      },
      "source": [
        "df.Price=df.Price.astype(int)"
      ],
      "execution_count": null,
      "outputs": []
    },
    {
      "cell_type": "code",
      "metadata": {
        "id": "sMefK6rYk_2b"
      },
      "source": [
        "df.kms_driven=df.kms_driven.str.replace(',','').str.split().str[0]"
      ],
      "execution_count": null,
      "outputs": []
    },
    {
      "cell_type": "code",
      "metadata": {
        "colab": {
          "base_uri": "https://localhost:8080/",
          "height": 111
        },
        "id": "yLz1PTKSzX2x",
        "outputId": "58a8c3b8-d967-4056-8de3-57aadfe39e62"
      },
      "source": [
        "df[~df.kms_driven.str.isnumeric()]"
      ],
      "execution_count": null,
      "outputs": [
        {
          "output_type": "execute_result",
          "data": {
            "text/html": [
              "<div>\n",
              "<style scoped>\n",
              "    .dataframe tbody tr th:only-of-type {\n",
              "        vertical-align: middle;\n",
              "    }\n",
              "\n",
              "    .dataframe tbody tr th {\n",
              "        vertical-align: top;\n",
              "    }\n",
              "\n",
              "    .dataframe thead th {\n",
              "        text-align: right;\n",
              "    }\n",
              "</style>\n",
              "<table border=\"1\" class=\"dataframe\">\n",
              "  <thead>\n",
              "    <tr style=\"text-align: right;\">\n",
              "      <th></th>\n",
              "      <th>name</th>\n",
              "      <th>company</th>\n",
              "      <th>year</th>\n",
              "      <th>Price</th>\n",
              "      <th>kms_driven</th>\n",
              "      <th>fuel_type</th>\n",
              "    </tr>\n",
              "  </thead>\n",
              "  <tbody>\n",
              "    <tr>\n",
              "      <th>890</th>\n",
              "      <td>Honda Amaze 1.2</td>\n",
              "      <td>Honda</td>\n",
              "      <td>2014</td>\n",
              "      <td>180000</td>\n",
              "      <td>Petrol</td>\n",
              "      <td>NaN</td>\n",
              "    </tr>\n",
              "    <tr>\n",
              "      <th>891</th>\n",
              "      <td>Chevrolet Sail 1.2</td>\n",
              "      <td>Chevrolet</td>\n",
              "      <td>2014</td>\n",
              "      <td>160000</td>\n",
              "      <td>Petrol</td>\n",
              "      <td>NaN</td>\n",
              "    </tr>\n",
              "  </tbody>\n",
              "</table>\n",
              "</div>"
            ],
            "text/plain": [
              "                   name    company  year   Price kms_driven fuel_type\n",
              "890     Honda Amaze 1.2      Honda  2014  180000     Petrol       NaN\n",
              "891  Chevrolet Sail 1.2  Chevrolet  2014  160000     Petrol       NaN"
            ]
          },
          "metadata": {
            "tags": []
          },
          "execution_count": 494
        }
      ]
    },
    {
      "cell_type": "code",
      "metadata": {
        "id": "iCjddCZ7z3wK"
      },
      "source": [
        "#There are 2 Object type values present in kms_driven. Lets drop them and convert it to int column."
      ],
      "execution_count": null,
      "outputs": []
    },
    {
      "cell_type": "code",
      "metadata": {
        "id": "UbIXGkHh0IH8"
      },
      "source": [
        "df=df[df.kms_driven.str.isnumeric()]"
      ],
      "execution_count": null,
      "outputs": []
    },
    {
      "cell_type": "code",
      "metadata": {
        "id": "kXHVn4ZZ0MRu"
      },
      "source": [
        "df.kms_driven=df.kms_driven.astype(int)"
      ],
      "execution_count": null,
      "outputs": []
    },
    {
      "cell_type": "code",
      "metadata": {
        "colab": {
          "base_uri": "https://localhost:8080/"
        },
        "id": "DVK6F8oE0UK0",
        "outputId": "508b8035-d977-4699-a414-59734cd61497"
      },
      "source": [
        "df.info()"
      ],
      "execution_count": null,
      "outputs": [
        {
          "output_type": "stream",
          "text": [
            "<class 'pandas.core.frame.DataFrame'>\n",
            "Int64Index: 817 entries, 0 to 889\n",
            "Data columns (total 6 columns):\n",
            " #   Column      Non-Null Count  Dtype \n",
            "---  ------      --------------  ----- \n",
            " 0   name        817 non-null    object\n",
            " 1   company     817 non-null    object\n",
            " 2   year        817 non-null    int64 \n",
            " 3   Price       817 non-null    int64 \n",
            " 4   kms_driven  817 non-null    int64 \n",
            " 5   fuel_type   816 non-null    object\n",
            "dtypes: int64(3), object(3)\n",
            "memory usage: 44.7+ KB\n"
          ],
          "name": "stdout"
        }
      ]
    },
    {
      "cell_type": "code",
      "metadata": {
        "id": "urvNkms_m1JN"
      },
      "source": [
        "#Lets create new column which will indicate how many years old the car is."
      ],
      "execution_count": null,
      "outputs": []
    },
    {
      "cell_type": "code",
      "metadata": {
        "id": "4KEqyflVm_XA"
      },
      "source": [
        "df['yr_old']=2021-df['year']"
      ],
      "execution_count": null,
      "outputs": []
    },
    {
      "cell_type": "code",
      "metadata": {
        "id": "mNYTOW8ynU8q"
      },
      "source": [
        "df=df.drop('year',axis=1)"
      ],
      "execution_count": null,
      "outputs": []
    },
    {
      "cell_type": "code",
      "metadata": {
        "colab": {
          "base_uri": "https://localhost:8080/"
        },
        "id": "bIlsi67W5cAF",
        "outputId": "779aa58e-6cd5-40d2-c9a6-ec649ab8e727"
      },
      "source": [
        "df.isna().sum()"
      ],
      "execution_count": null,
      "outputs": [
        {
          "output_type": "execute_result",
          "data": {
            "text/plain": [
              "name          0\n",
              "company       0\n",
              "Price         0\n",
              "kms_driven    0\n",
              "fuel_type     1\n",
              "yr_old        0\n",
              "dtype: int64"
            ]
          },
          "metadata": {
            "tags": []
          },
          "execution_count": 515
        }
      ]
    },
    {
      "cell_type": "code",
      "metadata": {
        "id": "xRWwHqPa9dKJ"
      },
      "source": [
        "#There is one nan value in fuel_type column. lets remove it."
      ],
      "execution_count": 569,
      "outputs": []
    },
    {
      "cell_type": "code",
      "metadata": {
        "id": "sQBAfk6S5hev"
      },
      "source": [
        "df=df[~df.fuel_type.isna()]"
      ],
      "execution_count": null,
      "outputs": []
    },
    {
      "cell_type": "code",
      "metadata": {
        "colab": {
          "base_uri": "https://localhost:8080/",
          "height": 204
        },
        "id": "sh-XnzF0lO8b",
        "outputId": "3247725c-7e1d-4448-ab43-657714ac152f"
      },
      "source": [
        "df.head() "
      ],
      "execution_count": null,
      "outputs": [
        {
          "output_type": "execute_result",
          "data": {
            "text/html": [
              "<div>\n",
              "<style scoped>\n",
              "    .dataframe tbody tr th:only-of-type {\n",
              "        vertical-align: middle;\n",
              "    }\n",
              "\n",
              "    .dataframe tbody tr th {\n",
              "        vertical-align: top;\n",
              "    }\n",
              "\n",
              "    .dataframe thead th {\n",
              "        text-align: right;\n",
              "    }\n",
              "</style>\n",
              "<table border=\"1\" class=\"dataframe\">\n",
              "  <thead>\n",
              "    <tr style=\"text-align: right;\">\n",
              "      <th></th>\n",
              "      <th>name</th>\n",
              "      <th>company</th>\n",
              "      <th>Price</th>\n",
              "      <th>kms_driven</th>\n",
              "      <th>fuel_type</th>\n",
              "      <th>yr_old</th>\n",
              "    </tr>\n",
              "  </thead>\n",
              "  <tbody>\n",
              "    <tr>\n",
              "      <th>0</th>\n",
              "      <td>Hyundai Santro Xing</td>\n",
              "      <td>Hyundai</td>\n",
              "      <td>80000</td>\n",
              "      <td>45000</td>\n",
              "      <td>Petrol</td>\n",
              "      <td>14</td>\n",
              "    </tr>\n",
              "    <tr>\n",
              "      <th>1</th>\n",
              "      <td>Mahindra Jeep CL550</td>\n",
              "      <td>Mahindra</td>\n",
              "      <td>425000</td>\n",
              "      <td>40</td>\n",
              "      <td>Diesel</td>\n",
              "      <td>15</td>\n",
              "    </tr>\n",
              "    <tr>\n",
              "      <th>3</th>\n",
              "      <td>Hyundai Grand i10</td>\n",
              "      <td>Hyundai</td>\n",
              "      <td>325000</td>\n",
              "      <td>28000</td>\n",
              "      <td>Petrol</td>\n",
              "      <td>7</td>\n",
              "    </tr>\n",
              "    <tr>\n",
              "      <th>4</th>\n",
              "      <td>Ford EcoSport Titanium</td>\n",
              "      <td>Ford</td>\n",
              "      <td>575000</td>\n",
              "      <td>36000</td>\n",
              "      <td>Diesel</td>\n",
              "      <td>7</td>\n",
              "    </tr>\n",
              "    <tr>\n",
              "      <th>6</th>\n",
              "      <td>Ford Figo</td>\n",
              "      <td>Ford</td>\n",
              "      <td>175000</td>\n",
              "      <td>41000</td>\n",
              "      <td>Diesel</td>\n",
              "      <td>9</td>\n",
              "    </tr>\n",
              "  </tbody>\n",
              "</table>\n",
              "</div>"
            ],
            "text/plain": [
              "                     name   company   Price  kms_driven fuel_type  yr_old\n",
              "0     Hyundai Santro Xing   Hyundai   80000       45000    Petrol      14\n",
              "1     Mahindra Jeep CL550  Mahindra  425000          40    Diesel      15\n",
              "3       Hyundai Grand i10   Hyundai  325000       28000    Petrol       7\n",
              "4  Ford EcoSport Titanium      Ford  575000       36000    Diesel       7\n",
              "6               Ford Figo      Ford  175000       41000    Diesel       9"
            ]
          },
          "metadata": {
            "tags": []
          },
          "execution_count": 520
        }
      ]
    },
    {
      "cell_type": "markdown",
      "metadata": {
        "id": "w7MLfDq99o0R"
      },
      "source": [
        "**Lets build model by using column transformer, onehotencoder and pipeline. Lets use Linear Regression. **\n"
      ]
    },
    {
      "cell_type": "code",
      "metadata": {
        "id": "WQbDkI7h9oLS"
      },
      "source": [
        ""
      ],
      "execution_count": null,
      "outputs": []
    },
    {
      "cell_type": "code",
      "metadata": {
        "id": "6CBQSb5cl5Dh"
      },
      "source": [
        "from sklearn.linear_model import LinearRegression\n",
        "from sklearn.metrics import r2_score\n",
        "from sklearn.model_selection import train_test_split\n",
        "from sklearn.preprocessing import OneHotEncoder\n",
        "from sklearn.pipeline import make_pipeline\n",
        "from sklearn.compose import make_column_transformer"
      ],
      "execution_count": null,
      "outputs": []
    },
    {
      "cell_type": "code",
      "metadata": {
        "id": "ZNyku-dL4kGU"
      },
      "source": [
        "x=df.drop(columns='Price')"
      ],
      "execution_count": 531,
      "outputs": []
    },
    {
      "cell_type": "code",
      "metadata": {
        "id": "WVJpeTYn5AWM"
      },
      "source": [
        "y=df.Price"
      ],
      "execution_count": null,
      "outputs": []
    },
    {
      "cell_type": "code",
      "metadata": {
        "id": "cB-2R0ew7d4v"
      },
      "source": [
        "l=[]\n",
        "for i in range(1000):\n",
        "    x_train, x_test, y_train, y_test = train_test_split(x,y,test_size=0.2,random_state=i)\n",
        "    ohe=OneHotEncoder()\n",
        "    ohe.fit(x[['name','company','fuel_type']])\n",
        "    ctr=make_column_transformer((OneHotEncoder(categories=ohe.categories_),['name','company','fuel_type']),remainder='passthrough')\n",
        "    pipe=make_pipeline(ctr,lr)\n",
        "    pipe.fit(x_train,y_train)\n",
        "    y_pred=pipe.predict(x_test)\n",
        "    r2=r2_score(y_test,y_pred)\n",
        "    l.append(r2)"
      ],
      "execution_count": 567,
      "outputs": []
    },
    {
      "cell_type": "code",
      "metadata": {
        "colab": {
          "base_uri": "https://localhost:8080/"
        },
        "id": "N0oucQHN-JE7",
        "outputId": "7cd8d91c-1b1e-4ac4-95a7-4b12baf1f024"
      },
      "source": [
        "np.argmax(l)"
      ],
      "execution_count": 570,
      "outputs": [
        {
          "output_type": "execute_result",
          "data": {
            "text/plain": [
              "661"
            ]
          },
          "metadata": {
            "tags": []
          },
          "execution_count": 570
        }
      ]
    },
    {
      "cell_type": "code",
      "metadata": {
        "id": "eWl9AzxcpAhu",
        "colab": {
          "base_uri": "https://localhost:8080/"
        },
        "outputId": "86f5ac05-1586-4b49-a7f6-0dd9fc9fcf06"
      },
      "source": [
        "l[np.argmax(l)]"
      ],
      "execution_count": 568,
      "outputs": [
        {
          "output_type": "execute_result",
          "data": {
            "text/plain": [
              "0.9026900131079775"
            ]
          },
          "metadata": {
            "tags": []
          },
          "execution_count": 568
        }
      ]
    },
    {
      "cell_type": "code",
      "metadata": {
        "id": "65V9fk9LpAaK"
      },
      "source": [
        "import pickle"
      ],
      "execution_count": 571,
      "outputs": []
    },
    {
      "cell_type": "code",
      "metadata": {
        "id": "42sGy5jRpATa"
      },
      "source": [
        "pickle.dump(pipe,open('quicker_car.pkl','wb'))"
      ],
      "execution_count": 576,
      "outputs": []
    },
    {
      "cell_type": "code",
      "metadata": {
        "id": "TjBmgrDFo1_a",
        "colab": {
          "base_uri": "https://localhost:8080/"
        },
        "outputId": "ea250978-2d60-4294-e8dc-72e47d5a26ff"
      },
      "source": [
        "ls "
      ],
      "execution_count": 577,
      "outputs": [
        {
          "output_type": "stream",
          "text": [
            "quicker_car.pkl  quikr_car.csv  \u001b[0m\u001b[01;34msample_data\u001b[0m/\n"
          ],
          "name": "stdout"
        }
      ]
    },
    {
      "cell_type": "code",
      "metadata": {
        "colab": {
          "base_uri": "https://localhost:8080/"
        },
        "id": "eiVy9dtm_i6O",
        "outputId": "548c16d1-2642-4c06-8f12-0d13bd91eae3"
      },
      "source": [
        "x.columns"
      ],
      "execution_count": 579,
      "outputs": [
        {
          "output_type": "execute_result",
          "data": {
            "text/plain": [
              "Index(['name', 'company', 'kms_driven', 'fuel_type', 'yr_old'], dtype='object')"
            ]
          },
          "metadata": {
            "tags": []
          },
          "execution_count": 579
        }
      ]
    },
    {
      "cell_type": "code",
      "metadata": {
        "id": "Sald8IzWAPYd"
      },
      "source": [
        "#Predict"
      ],
      "execution_count": 589,
      "outputs": []
    },
    {
      "cell_type": "code",
      "metadata": {
        "colab": {
          "base_uri": "https://localhost:8080/"
        },
        "id": "8WTurXL0-u9q",
        "outputId": "6adab2a9-f247-4ed2-d8ad-8587d6d4e728"
      },
      "source": [
        "pipe.predict(pd.DataFrame([['Maruti Suzuki Swift','Maruti',1000,'Petrol',2]],columns=['name','company','kms_driven','fuel_type','yr_old']))"
      ],
      "execution_count": 588,
      "outputs": [
        {
          "output_type": "execute_result",
          "data": {
            "text/plain": [
              "array([418414.13253831])"
            ]
          },
          "metadata": {
            "tags": []
          },
          "execution_count": 588
        }
      ]
    },
    {
      "cell_type": "code",
      "metadata": {
        "id": "1AE-xys3_cnl"
      },
      "source": [
        ""
      ],
      "execution_count": null,
      "outputs": []
    }
  ]
}